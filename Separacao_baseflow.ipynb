{
  "nbformat": 4,
  "nbformat_minor": 0,
  "metadata": {
    "colab": {
      "provenance": [],
      "authorship_tag": "ABX9TyPloqajgebeBrTxnC2MNhS3",
      "include_colab_link": true
    },
    "kernelspec": {
      "name": "python3",
      "display_name": "Python 3"
    },
    "language_info": {
      "name": "python"
    }
  },
  "cells": [
    {
      "cell_type": "markdown",
      "metadata": {
        "id": "view-in-github",
        "colab_type": "text"
      },
      "source": [
        "<a href=\"https://colab.research.google.com/github/nevertonscariot/ASP_QUA_RH/blob/main/Separacao_baseflow.ipynb\" target=\"_parent\"><img src=\"https://colab.research.google.com/assets/colab-badge.svg\" alt=\"Open In Colab\"/></a>"
      ]
    },
    {
      "cell_type": "markdown",
      "source": [
        "# **Separação de escoamento e geração de IDW**"
      ],
      "metadata": {
        "id": "keO4Q8Vn0InF"
      }
    },
    {
      "cell_type": "markdown",
      "source": [
        "## Instalando bibliotecas"
      ],
      "metadata": {
        "id": "8tb59Zrt0UX9"
      }
    },
    {
      "cell_type": "code",
      "execution_count": 1,
      "metadata": {
        "colab": {
          "base_uri": "https://localhost:8080/"
        },
        "collapsed": true,
        "id": "otG-Yp4syC8x",
        "outputId": "be0e09b5-1e03-4a7e-9f5f-5bea36b81038"
      },
      "outputs": [
        {
          "output_type": "stream",
          "name": "stdout",
          "text": [
            "Collecting hydrobr\n",
            "  Downloading hydrobr-0.1.1.tar.gz (16 kB)\n",
            "  Preparing metadata (setup.py) ... \u001b[?25l\u001b[?25hdone\n",
            "Requirement already satisfied: pandas>=0.25 in /usr/local/lib/python3.10/dist-packages (from hydrobr) (1.5.3)\n",
            "Requirement already satisfied: tqdm>=4.31 in /usr/local/lib/python3.10/dist-packages (from hydrobr) (4.65.0)\n",
            "Requirement already satisfied: requests>=2.21 in /usr/local/lib/python3.10/dist-packages (from hydrobr) (2.27.1)\n",
            "Requirement already satisfied: plotly>=4.6.0 in /usr/local/lib/python3.10/dist-packages (from hydrobr) (5.13.1)\n",
            "Requirement already satisfied: python-dateutil>=2.8.1 in /usr/local/lib/python3.10/dist-packages (from pandas>=0.25->hydrobr) (2.8.2)\n",
            "Requirement already satisfied: pytz>=2020.1 in /usr/local/lib/python3.10/dist-packages (from pandas>=0.25->hydrobr) (2022.7.1)\n",
            "Requirement already satisfied: numpy>=1.21.0 in /usr/local/lib/python3.10/dist-packages (from pandas>=0.25->hydrobr) (1.22.4)\n",
            "Requirement already satisfied: tenacity>=6.2.0 in /usr/local/lib/python3.10/dist-packages (from plotly>=4.6.0->hydrobr) (8.2.2)\n",
            "Requirement already satisfied: urllib3<1.27,>=1.21.1 in /usr/local/lib/python3.10/dist-packages (from requests>=2.21->hydrobr) (1.26.16)\n",
            "Requirement already satisfied: certifi>=2017.4.17 in /usr/local/lib/python3.10/dist-packages (from requests>=2.21->hydrobr) (2023.5.7)\n",
            "Requirement already satisfied: charset-normalizer~=2.0.0 in /usr/local/lib/python3.10/dist-packages (from requests>=2.21->hydrobr) (2.0.12)\n",
            "Requirement already satisfied: idna<4,>=2.5 in /usr/local/lib/python3.10/dist-packages (from requests>=2.21->hydrobr) (3.4)\n",
            "Requirement already satisfied: six>=1.5 in /usr/local/lib/python3.10/dist-packages (from python-dateutil>=2.8.1->pandas>=0.25->hydrobr) (1.16.0)\n",
            "Building wheels for collected packages: hydrobr\n",
            "  Building wheel for hydrobr (setup.py) ... \u001b[?25l\u001b[?25hdone\n",
            "  Created wheel for hydrobr: filename=hydrobr-0.1.1-py3-none-any.whl size=15073 sha256=86431176d632236f1d1cca89a73a462763b20951b44f105d743c8111c15e1bff\n",
            "  Stored in directory: /root/.cache/pip/wheels/44/9b/89/8fd8f9bf127ee2c08c7fb9c31520f5a80d238702bdd8fd8cd0\n",
            "Successfully built hydrobr\n",
            "Installing collected packages: hydrobr\n",
            "Successfully installed hydrobr-0.1.1\n",
            "Cloning into 'gespla'...\n",
            "remote: Enumerating objects: 256, done.\u001b[K\n",
            "remote: Counting objects: 100% (55/55), done.\u001b[K\n",
            "remote: Compressing objects: 100% (38/38), done.\u001b[K\n",
            "remote: Total 256 (delta 31), reused 39 (delta 17), pack-reused 201\u001b[K\n",
            "Receiving objects: 100% (256/256), 107.08 KiB | 7.65 MiB/s, done.\n",
            "Resolving deltas: 100% (152/152), done.\n",
            "Collecting baseflow\n",
            "  Downloading baseflow-0.0.8-py3-none-any.whl (236 kB)\n",
            "\u001b[2K     \u001b[90m━━━━━━━━━━━━━━━━━━━━━━━━━━━━━━━━━━━━━━━\u001b[0m \u001b[32m236.4/236.4 kB\u001b[0m \u001b[31m9.5 MB/s\u001b[0m eta \u001b[36m0:00:00\u001b[0m\n",
            "\u001b[?25hRequirement already satisfied: numpy in /usr/local/lib/python3.10/dist-packages (from baseflow) (1.22.4)\n",
            "Requirement already satisfied: numba in /usr/local/lib/python3.10/dist-packages (from baseflow) (0.56.4)\n",
            "Requirement already satisfied: tqdm in /usr/local/lib/python3.10/dist-packages (from baseflow) (4.65.0)\n",
            "Requirement already satisfied: pandas in /usr/local/lib/python3.10/dist-packages (from baseflow) (1.5.3)\n",
            "Requirement already satisfied: llvmlite<0.40,>=0.39.0dev0 in /usr/local/lib/python3.10/dist-packages (from numba->baseflow) (0.39.1)\n",
            "Requirement already satisfied: setuptools in /usr/local/lib/python3.10/dist-packages (from numba->baseflow) (67.7.2)\n",
            "Requirement already satisfied: python-dateutil>=2.8.1 in /usr/local/lib/python3.10/dist-packages (from pandas->baseflow) (2.8.2)\n",
            "Requirement already satisfied: pytz>=2020.1 in /usr/local/lib/python3.10/dist-packages (from pandas->baseflow) (2022.7.1)\n",
            "Requirement already satisfied: six>=1.5 in /usr/local/lib/python3.10/dist-packages (from python-dateutil>=2.8.1->pandas->baseflow) (1.16.0)\n",
            "Installing collected packages: baseflow\n",
            "Successfully installed baseflow-0.0.8\n",
            "Collecting chart_studio\n",
            "  Downloading chart_studio-1.1.0-py3-none-any.whl (64 kB)\n",
            "\u001b[2K     \u001b[90m━━━━━━━━━━━━━━━━━━━━━━━━━━━━━━━━━━━━━━━━\u001b[0m \u001b[32m64.4/64.4 kB\u001b[0m \u001b[31m4.4 MB/s\u001b[0m eta \u001b[36m0:00:00\u001b[0m\n",
            "\u001b[?25hRequirement already satisfied: plotly in /usr/local/lib/python3.10/dist-packages (from chart_studio) (5.13.1)\n",
            "Requirement already satisfied: requests in /usr/local/lib/python3.10/dist-packages (from chart_studio) (2.27.1)\n",
            "Collecting retrying>=1.3.3 (from chart_studio)\n",
            "  Downloading retrying-1.3.4-py3-none-any.whl (11 kB)\n",
            "Requirement already satisfied: six in /usr/local/lib/python3.10/dist-packages (from chart_studio) (1.16.0)\n",
            "Requirement already satisfied: tenacity>=6.2.0 in /usr/local/lib/python3.10/dist-packages (from plotly->chart_studio) (8.2.2)\n",
            "Requirement already satisfied: urllib3<1.27,>=1.21.1 in /usr/local/lib/python3.10/dist-packages (from requests->chart_studio) (1.26.16)\n",
            "Requirement already satisfied: certifi>=2017.4.17 in /usr/local/lib/python3.10/dist-packages (from requests->chart_studio) (2023.5.7)\n",
            "Requirement already satisfied: charset-normalizer~=2.0.0 in /usr/local/lib/python3.10/dist-packages (from requests->chart_studio) (2.0.12)\n",
            "Requirement already satisfied: idna<4,>=2.5 in /usr/local/lib/python3.10/dist-packages (from requests->chart_studio) (3.4)\n",
            "Installing collected packages: retrying, chart_studio\n",
            "Successfully installed chart_studio-1.1.0 retrying-1.3.4\n",
            "Requirement already satisfied: geopandas in /usr/local/lib/python3.10/dist-packages (0.13.2)\n",
            "Requirement already satisfied: fiona>=1.8.19 in /usr/local/lib/python3.10/dist-packages (from geopandas) (1.9.4.post1)\n",
            "Requirement already satisfied: packaging in /usr/local/lib/python3.10/dist-packages (from geopandas) (23.1)\n",
            "Requirement already satisfied: pandas>=1.1.0 in /usr/local/lib/python3.10/dist-packages (from geopandas) (1.5.3)\n",
            "Requirement already satisfied: pyproj>=3.0.1 in /usr/local/lib/python3.10/dist-packages (from geopandas) (3.6.0)\n",
            "Requirement already satisfied: shapely>=1.7.1 in /usr/local/lib/python3.10/dist-packages (from geopandas) (2.0.1)\n",
            "Requirement already satisfied: attrs>=19.2.0 in /usr/local/lib/python3.10/dist-packages (from fiona>=1.8.19->geopandas) (23.1.0)\n",
            "Requirement already satisfied: certifi in /usr/local/lib/python3.10/dist-packages (from fiona>=1.8.19->geopandas) (2023.5.7)\n",
            "Requirement already satisfied: click~=8.0 in /usr/local/lib/python3.10/dist-packages (from fiona>=1.8.19->geopandas) (8.1.4)\n",
            "Requirement already satisfied: click-plugins>=1.0 in /usr/local/lib/python3.10/dist-packages (from fiona>=1.8.19->geopandas) (1.1.1)\n",
            "Requirement already satisfied: cligj>=0.5 in /usr/local/lib/python3.10/dist-packages (from fiona>=1.8.19->geopandas) (0.7.2)\n",
            "Requirement already satisfied: six in /usr/local/lib/python3.10/dist-packages (from fiona>=1.8.19->geopandas) (1.16.0)\n",
            "Requirement already satisfied: python-dateutil>=2.8.1 in /usr/local/lib/python3.10/dist-packages (from pandas>=1.1.0->geopandas) (2.8.2)\n",
            "Requirement already satisfied: pytz>=2020.1 in /usr/local/lib/python3.10/dist-packages (from pandas>=1.1.0->geopandas) (2022.7.1)\n",
            "Requirement already satisfied: numpy>=1.21.0 in /usr/local/lib/python3.10/dist-packages (from pandas>=1.1.0->geopandas) (1.22.4)\n"
          ]
        }
      ],
      "source": [
        "!pip install hydrobr #para download e load dos dados de precipitação e vazão\n",
        "!git clone https://github.com/gespla-iph-ufrgs/gespla #Toolbox para análise de séries e outras ferramentas\n",
        "!pip install baseflow #para separação de escoamento\n",
        "!pip install chart_studio #para plotagem da série de vazão\n",
        "!pip install geopandas"
      ]
    },
    {
      "cell_type": "code",
      "source": [
        "#@title\n",
        "#Funções de separação de escoamento\n",
        "\n",
        "'''\n",
        "\n",
        "import numpy as np\n",
        "import pandas as pd\n",
        "from tqdm import tqdm\n",
        "from pathlib import Path\n",
        "from baseflow.methods import *\n",
        "from baseflow.comparision import strict_baseflow, KGE\n",
        "from baseflow.utils import load_streamflow, exist_ice, geo2imagexy, format_method\n",
        "from baseflow.param_estimate import recession_coefficient, param_calibrate, maxmium_BFI\n",
        "\n",
        "\n",
        "def separation(Q, date=None, area=None, ice=None, method='all', return_kge=True):\n",
        "    Q = np.array(Q)\n",
        "    method = format_method(method)\n",
        "\n",
        "    # convert ice_period ([11, 1], [3, 31]) to bool array\n",
        "    if not isinstance(ice, np.ndarray) or ice.shape[0] == 12:\n",
        "        ice = exist_ice(date, ice)\n",
        "    strict = strict_baseflow(Q, ice)\n",
        "    if any(m in ['Chapman', 'CM', 'Boughton', 'Furey', 'Eckhardt', 'Willems'] for m in method):\n",
        "        a = recession_coefficient(Q, strict)\n",
        "\n",
        "    b_LH = LH(Q)\n",
        "    b = np.recarray(Q.shape[0], dtype=list(zip(method, [float] * len(method))))\n",
        "    for m in method:\n",
        "        if m == 'UKIH':\n",
        "            b[m] = UKIH(Q, b_LH)\n",
        "\n",
        "        if m == 'Local':\n",
        "            b[m] = Local(Q, b_LH, area)\n",
        "\n",
        "        if m == 'Fixed':\n",
        "            b[m] = Fixed(Q, area)\n",
        "\n",
        "        if m == 'Slide':\n",
        "            b[m] = Slide(Q, area)\n",
        "\n",
        "        if m == 'LH':\n",
        "            b[m] = b_LH\n",
        "\n",
        "        if m == 'Chapman':\n",
        "            b[m] = Chapman(Q, b_LH, a)\n",
        "\n",
        "        if m == 'CM':\n",
        "            b[m] = CM(Q, b_LH, a)\n",
        "\n",
        "        if m == 'Boughton':\n",
        "            C = param_calibrate(np.arange(0.0001, 0.1, 0.0001), Boughton, Q, b_LH, a)\n",
        "            b[m] = Boughton(Q, b_LH, a, C)\n",
        "\n",
        "        if m == 'Furey':\n",
        "            A = param_calibrate(np.arange(0.01, 10, 0.01), Furey, Q, b_LH, a)\n",
        "            b[m] = Furey(Q, b_LH, a, A)\n",
        "\n",
        "        if m == 'Eckhardt':\n",
        "            # BFImax = maxmium_BFI(Q, b_LH, a, date)\n",
        "            BFImax = param_calibrate(np.arange(0.001, 1, 0.001), Eckhardt, Q, b_LH, a)\n",
        "            b[m] = Eckhardt(Q, b_LH, a, BFImax)\n",
        "\n",
        "        if m == 'EWMA':\n",
        "            e = param_calibrate(np.arange(0.0001, 0.1, 0.0001), EWMA, Q, b_LH, 0)\n",
        "            b[m] = EWMA(Q, b_LH, 0, e)\n",
        "\n",
        "        if m == 'Willems':\n",
        "            w = param_calibrate(np.arange(0.001, 1, 0.001), Willems, Q, b_LH, a)\n",
        "            b[m] = Willems(Q, b_LH, a, w)\n",
        "\n",
        "    if return_kge:\n",
        "        KGEs = KGE(b[strict].view(np.float64).reshape(-1, len(method)),\n",
        "                   np.repeat(Q[strict], len(method)).reshape(-1, len(method)))\n",
        "        return b, KGEs\n",
        "    else:\n",
        "        return b, None\n",
        "\n",
        "\n",
        "def index(df, df_sta, method='all', return_kge=False):\n",
        "    # baseflow index worker\n",
        "    def index_work(idx):\n",
        "        try:\n",
        "            c, r = geo2imagexy(df_sta.loc[idx, 'lon'], df_sta.loc[idx, 'lat'])\n",
        "            ice_period = ~thawed[:, r, c]\n",
        "            ice_period = ([11, 1], [3, 31]) if ice_period.all() else ice_period\n",
        "            Q, date = load_streamflow(df[idx])\n",
        "            ice = exist_ice(date, ice_period)\n",
        "            b, KGEs = separation(Q, ice=ice, area=df_sta.loc[idx, 'area'],\n",
        "                                 method=method, return_kge=return_kge)\n",
        "            df_bfi.loc[idx] = pd.DataFrame(b).sum() / Q.sum()\n",
        "            if KGEs is not None:\n",
        "                df_kge.loc[idx] = KGEs\n",
        "        except BaseException:\n",
        "            pass\n",
        "\n",
        "    # read thawed months\n",
        "    with np.load(Path(__file__).parent / 'thawed.npz') as f:\n",
        "        thawed = f['thawed']\n",
        "\n",
        "    # create df to store baseflow index\n",
        "    method = format_method(method)\n",
        "    df_bfi = pd.DataFrame(-1, index=df_sta.index, columns=method, dtype=float)\n",
        "\n",
        "    # create df to store KGE\n",
        "    if return_kge:\n",
        "        df_kge = pd.DataFrame(-1, index=df_sta.index, columns=method, dtype=float)\n",
        "\n",
        "    # run separation for each column\n",
        "    for idx in tqdm(df_sta.index, total=df_sta.shape[0]):\n",
        "        index_work(idx)\n",
        "\n",
        "    # return result\n",
        "    if return_kge:\n",
        "        return df_bfi, df_kge\n",
        "    else:\n",
        "        return df_bfi\n",
        "\n",
        "EXAMPLE\n",
        "\n",
        "\n",
        "\n",
        "Q, date = baseflow.load_streamflow(baseflow.example)\n",
        "b, KGEs = baseflow.separation(Q, date, area=276, me)\n",
        "print(f'Best Method: {b.dtype.names[KGEs.argmax()]}')\n",
        "\n",
        "# https://doi.org/10.1016/j.jhydrol.2020.124628\n",
        "'''"
      ],
      "metadata": {
        "colab": {
          "base_uri": "https://localhost:8080/",
          "height": 122
        },
        "cellView": "form",
        "id": "E9f6mCBOy_Q1",
        "outputId": "d5103169-e0c1-422d-9721-99ef38008163"
      },
      "execution_count": 2,
      "outputs": [
        {
          "output_type": "execute_result",
          "data": {
            "text/plain": [
              "\"\\n\\nimport numpy as np\\nimport pandas as pd\\nfrom tqdm import tqdm\\nfrom pathlib import Path\\nfrom baseflow.methods import *\\nfrom baseflow.comparision import strict_baseflow, KGE\\nfrom baseflow.utils import load_streamflow, exist_ice, geo2imagexy, format_method\\nfrom baseflow.param_estimate import recession_coefficient, param_calibrate, maxmium_BFI\\n\\n\\ndef separation(Q, date=None, area=None, ice=None, method='all', return_kge=True):\\n    Q = np.array(Q)\\n    method = format_method(method)\\n\\n    # convert ice_period ([11, 1], [3, 31]) to bool array\\n    if not isinstance(ice, np.ndarray) or ice.shape[0] == 12:\\n        ice = exist_ice(date, ice)\\n    strict = strict_baseflow(Q, ice)\\n    if any(m in ['Chapman', 'CM', 'Boughton', 'Furey', 'Eckhardt', 'Willems'] for m in method):\\n        a = recession_coefficient(Q, strict)\\n\\n    b_LH = LH(Q)\\n    b = np.recarray(Q.shape[0], dtype=list(zip(method, [float] * len(method))))\\n    for m in method:\\n        if m == 'UKIH':\\n            b[m] = UKIH(Q, b_LH)\\n\\n        if m == 'Local':\\n            b[m] = Local(Q, b_LH, area)\\n\\n        if m == 'Fixed':\\n            b[m] = Fixed(Q, area)\\n\\n        if m == 'Slide':\\n            b[m] = Slide(Q, area)\\n\\n        if m == 'LH':\\n            b[m] = b_LH\\n\\n        if m == 'Chapman':\\n            b[m] = Chapman(Q, b_LH, a)\\n\\n        if m == 'CM':\\n            b[m] = CM(Q, b_LH, a)\\n\\n        if m == 'Boughton':\\n            C = param_calibrate(np.arange(0.0001, 0.1, 0.0001), Boughton, Q, b_LH, a)\\n            b[m] = Boughton(Q, b_LH, a, C)\\n\\n        if m == 'Furey':\\n            A = param_calibrate(np.arange(0.01, 10, 0.01), Furey, Q, b_LH, a)\\n            b[m] = Furey(Q, b_LH, a, A)\\n\\n        if m == 'Eckhardt':\\n            # BFImax = maxmium_BFI(Q, b_LH, a, date)\\n            BFImax = param_calibrate(np.arange(0.001, 1, 0.001), Eckhardt, Q, b_LH, a)\\n            b[m] = Eckhardt(Q, b_LH, a, BFImax)\\n\\n        if m == 'EWMA':\\n            e = param_calibrate(np.arange(0.0001, 0.1, 0.0001), EWMA, Q, b_LH, 0)\\n            b[m] = EWMA(Q, b_LH, 0, e)\\n\\n        if m == 'Willems':\\n            w = param_calibrate(np.arange(0.001, 1, 0.001), Willems, Q, b_LH, a)\\n            b[m] = Willems(Q, b_LH, a, w)\\n\\n    if return_kge:\\n        KGEs = KGE(b[strict].view(np.float64).reshape(-1, len(method)),\\n                   np.repeat(Q[strict], len(method)).reshape(-1, len(method)))\\n        return b, KGEs\\n    else:\\n        return b, None\\n\\n\\ndef index(df, df_sta, method='all', return_kge=False):\\n    # baseflow index worker\\n    def index_work(idx):\\n        try:\\n            c, r = geo2imagexy(df_sta.loc[idx, 'lon'], df_sta.loc[idx, 'lat'])\\n            ice_period = ~thawed[:, r, c]\\n            ice_period = ([11, 1], [3, 31]) if ice_period.all() else ice_period\\n            Q, date = load_streamflow(df[idx])\\n            ice = exist_ice(date, ice_period)\\n            b, KGEs = separation(Q, ice=ice, area=df_sta.loc[idx, 'area'],\\n                                 method=method, return_kge=return_kge)\\n            df_bfi.loc[idx] = pd.DataFrame(b).sum() / Q.sum()\\n            if KGEs is not None:\\n                df_kge.loc[idx] = KGEs\\n        except BaseException:\\n            pass\\n\\n    # read thawed months\\n    with np.load(Path(__file__).parent / 'thawed.npz') as f:\\n        thawed = f['thawed']\\n\\n    # create df to store baseflow index\\n    method = format_method(method)\\n    df_bfi = pd.DataFrame(-1, index=df_sta.index, columns=method, dtype=float)\\n\\n    # create df to store KGE\\n    if return_kge:\\n        df_kge = pd.DataFrame(-1, index=df_sta.index, columns=method, dtype=float)\\n\\n    # run separation for each column\\n    for idx in tqdm(df_sta.index, total=df_sta.shape[0]):\\n        index_work(idx)\\n\\n    # return result\\n    if return_kge:\\n        return df_bfi, df_kge\\n    else:\\n        return df_bfi\\n\\nEXAMPLE\\n\\n\\n\\nQ, date = baseflow.load_streamflow(baseflow.example)\\nb, KGEs = baseflow.separation(Q, date, area=276, me)\\nprint(f'Best Method: {b.dtype.names[KGEs.argmax()]}')\\n\\n# https://doi.org/10.1016/j.jhydrol.2020.124628\\n\""
            ],
            "application/vnd.google.colaboratory.intrinsic+json": {
              "type": "string"
            }
          },
          "metadata": {},
          "execution_count": 2
        }
      ]
    },
    {
      "cell_type": "markdown",
      "source": [
        "## Importando classes e funções"
      ],
      "metadata": {
        "id": "gjI0LX_m0dBl"
      }
    },
    {
      "cell_type": "code",
      "source": [
        "from gespla import download, load, resample, tsa, visuals\n",
        "import baseflow\n",
        "import hydrobr\n",
        "import geopandas as gpd\n",
        "\n",
        "import numpy as np # linear algebra\n",
        "import pandas as pd # data processing, CSV file I/O (e.g. pd.read_csv)\n",
        "\n",
        "# para plotar Time Series data com Rangeslider\n",
        "import chart_studio.plotly as plotly\n",
        "import plotly.figure_factory as ff\n",
        "from plotly import graph_objs as go\n",
        "from plotly.offline import plot\n",
        "\n",
        "import matplotlib.pyplot as plt\n",
        "\n",
        "from shapely.geometry import Point # Gera os pontos das coordenadas das estações"
      ],
      "metadata": {
        "id": "7LDUJWHMzueC"
      },
      "execution_count": 19,
      "outputs": []
    },
    {
      "cell_type": "markdown",
      "source": [
        "## Download de dados da ANA"
      ],
      "metadata": {
        "id": "6Q-EG9j50jz4"
      }
    },
    {
      "cell_type": "code",
      "source": [
        "!mkdir -p \"/content/Separacao_flow\" # Cria pasta para o projeto"
      ],
      "metadata": {
        "id": "n5Cs_flQ-r92"
      },
      "execution_count": 4,
      "outputs": []
    },
    {
      "cell_type": "markdown",
      "source": [
        "#### Importa poligonos das subbacias da ANA"
      ],
      "metadata": {
        "id": "QqHEM3bh_MVb"
      }
    },
    {
      "cell_type": "code",
      "source": [
        "!wget -P \"/content/Separacao_flow\" https://dadosabertos.ana.gov.br/datasets/10480692111f443bb5a38d9bb156851f_0.geojson?outSR={\"latestWkid\":4618,\"wkid\":4291}\n",
        "\n",
        "df_shape_sub_brasil = gpd.read_file('/content/Separacao_flow/10480692111f443bb5a38d9bb156851f_0.geojson?outSR=latestWkid:4618')\n",
        "df_shape_sub_brasil = df_shape_sub_brasil.sort_values(by=['DNS_DNB_CD','DNS_NU_SUB'])\n",
        "df_shape_sub_brasil.columns\n",
        "\n",
        "df_shape_sub_brasil"
      ],
      "metadata": {
        "colab": {
          "base_uri": "https://localhost:8080/",
          "height": 840
        },
        "id": "nxn5LANj-pNt",
        "outputId": "317e9188-2c1e-4219-ca02-f77db50896d5"
      },
      "execution_count": 5,
      "outputs": [
        {
          "output_type": "stream",
          "name": "stdout",
          "text": [
            "--2023-07-13 01:20:46--  https://dadosabertos.ana.gov.br/datasets/10480692111f443bb5a38d9bb156851f_0.geojson?outSR=latestWkid:4618\n",
            "Resolving dadosabertos.ana.gov.br (dadosabertos.ana.gov.br)... 54.197.243.216, 44.215.202.167, 23.23.51.121\n",
            "Connecting to dadosabertos.ana.gov.br (dadosabertos.ana.gov.br)|54.197.243.216|:443... connected.\n",
            "HTTP request sent, awaiting response... 200 OK\n",
            "Length: unspecified [application/json]\n",
            "Saving to: ‘/content/Separacao_flow/10480692111f443bb5a38d9bb156851f_0.geojson?outSR=latestWkid:4618’\n",
            "\n",
            "10480692111f443bb5a     [  <=>               ] 811.09K  1.83MB/s    in 0.4s    \n",
            "\n",
            "2023-07-13 01:20:50 (1.83 MB/s) - ‘/content/Separacao_flow/10480692111f443bb5a38d9bb156851f_0.geojson?outSR=latestWkid:4618’ saved [830561]\n",
            "\n",
            "--2023-07-13 01:20:50--  https://dadosabertos.ana.gov.br/datasets/10480692111f443bb5a38d9bb156851f_0.geojson?outSR=wkid:4291\n",
            "Reusing existing connection to dadosabertos.ana.gov.br:443.\n",
            "HTTP request sent, awaiting response... 200 OK\n",
            "Length: unspecified [application/json]\n",
            "Saving to: ‘/content/Separacao_flow/10480692111f443bb5a38d9bb156851f_0.geojson?outSR=wkid:4291’\n",
            "\n",
            "10480692111f443bb5a     [  <=>               ] 811.09K  2.28MB/s    in 0.3s    \n",
            "\n",
            "2023-07-13 01:20:54 (2.28 MB/s) - ‘/content/Separacao_flow/10480692111f443bb5a38d9bb156851f_0.geojson?outSR=wkid:4291’ saved [830561]\n",
            "\n",
            "FINISHED --2023-07-13 01:20:54--\n",
            "Total wall clock time: 8.5s\n",
            "Downloaded: 2 files, 1.6M in 0.8s (2.03 MB/s)\n"
          ]
        },
        {
          "output_type": "execute_result",
          "data": {
            "text/plain": [
              "    OBJECTID  DNS_DNB_CD  DNS_NU_SUB  \\\n",
              "60        61           1          10   \n",
              "61        62           1          11   \n",
              "62        63           1          12   \n",
              "63        64           1          13   \n",
              "64        65           1          14   \n",
              "..       ...         ...         ...   \n",
              "53        54           8          84   \n",
              "75        76           8          85   \n",
              "54        55           8          86   \n",
              "56        57           8          87   \n",
              "55        56           8          88   \n",
              "\n",
              "                                               DNS_NM  \\\n",
              "60          Amazonas, entre a nascente e o rio Javari   \n",
              "61      Amazonas, entre os rios Javari e Auati-Paraná   \n",
              "62  Amazonas, entre o rio Auati-Paraná e o lago Coari   \n",
              "63         Amazonas, entre o lago Coari e o rio Purus   \n",
              "64                                              Negro   \n",
              "..                                                ...   \n",
              "53                         Tubarão, Capivari e outros   \n",
              "75                                         Alto Jacuí   \n",
              "54                                            Taquari   \n",
              "56           Camaquã, Jacuí, lagoa dos Patos e outros   \n",
              "55          Jaguarão e lagoa Mirim no Brasil e outros   \n",
              "\n",
              "                                             geometry  \n",
              "60  POLYGON ((-69.95189 -4.13244, -69.96298 -4.172...  \n",
              "61  POLYGON ((-70.99181 -6.18676, -70.84562 -6.176...  \n",
              "62  POLYGON ((-68.63063 -4.33629, -68.67775 -4.501...  \n",
              "63  POLYGON ((-68.72540 -11.14319, -68.69828 -11.0...  \n",
              "64  POLYGON ((-70.08087 0.03369, -69.95836 0.01968...  \n",
              "..                                                ...  \n",
              "53  POLYGON ((-49.25234 -27.90785, -49.29004 -27.9...  \n",
              "75  POLYGON ((-53.19447 -28.23173, -53.21670 -28.2...  \n",
              "54  POLYGON ((-51.71990 -29.94244, -51.71888 -29.9...  \n",
              "56  POLYGON ((-53.79216 -31.30957, -53.77834 -31.3...  \n",
              "55  POLYGON ((-53.44223 -32.55850, -53.39219 -32.5...  \n",
              "\n",
              "[76 rows x 5 columns]"
            ],
            "text/html": [
              "\n",
              "\n",
              "  <div id=\"df-08f40a8d-0b74-48a6-bec6-314d26eef242\">\n",
              "    <div class=\"colab-df-container\">\n",
              "      <div>\n",
              "<style scoped>\n",
              "    .dataframe tbody tr th:only-of-type {\n",
              "        vertical-align: middle;\n",
              "    }\n",
              "\n",
              "    .dataframe tbody tr th {\n",
              "        vertical-align: top;\n",
              "    }\n",
              "\n",
              "    .dataframe thead th {\n",
              "        text-align: right;\n",
              "    }\n",
              "</style>\n",
              "<table border=\"1\" class=\"dataframe\">\n",
              "  <thead>\n",
              "    <tr style=\"text-align: right;\">\n",
              "      <th></th>\n",
              "      <th>OBJECTID</th>\n",
              "      <th>DNS_DNB_CD</th>\n",
              "      <th>DNS_NU_SUB</th>\n",
              "      <th>DNS_NM</th>\n",
              "      <th>geometry</th>\n",
              "    </tr>\n",
              "  </thead>\n",
              "  <tbody>\n",
              "    <tr>\n",
              "      <th>60</th>\n",
              "      <td>61</td>\n",
              "      <td>1</td>\n",
              "      <td>10</td>\n",
              "      <td>Amazonas, entre a nascente e o rio Javari</td>\n",
              "      <td>POLYGON ((-69.95189 -4.13244, -69.96298 -4.172...</td>\n",
              "    </tr>\n",
              "    <tr>\n",
              "      <th>61</th>\n",
              "      <td>62</td>\n",
              "      <td>1</td>\n",
              "      <td>11</td>\n",
              "      <td>Amazonas, entre os rios Javari e Auati-Paraná</td>\n",
              "      <td>POLYGON ((-70.99181 -6.18676, -70.84562 -6.176...</td>\n",
              "    </tr>\n",
              "    <tr>\n",
              "      <th>62</th>\n",
              "      <td>63</td>\n",
              "      <td>1</td>\n",
              "      <td>12</td>\n",
              "      <td>Amazonas, entre o rio Auati-Paraná e o lago Coari</td>\n",
              "      <td>POLYGON ((-68.63063 -4.33629, -68.67775 -4.501...</td>\n",
              "    </tr>\n",
              "    <tr>\n",
              "      <th>63</th>\n",
              "      <td>64</td>\n",
              "      <td>1</td>\n",
              "      <td>13</td>\n",
              "      <td>Amazonas, entre o lago Coari e o rio Purus</td>\n",
              "      <td>POLYGON ((-68.72540 -11.14319, -68.69828 -11.0...</td>\n",
              "    </tr>\n",
              "    <tr>\n",
              "      <th>64</th>\n",
              "      <td>65</td>\n",
              "      <td>1</td>\n",
              "      <td>14</td>\n",
              "      <td>Negro</td>\n",
              "      <td>POLYGON ((-70.08087 0.03369, -69.95836 0.01968...</td>\n",
              "    </tr>\n",
              "    <tr>\n",
              "      <th>...</th>\n",
              "      <td>...</td>\n",
              "      <td>...</td>\n",
              "      <td>...</td>\n",
              "      <td>...</td>\n",
              "      <td>...</td>\n",
              "    </tr>\n",
              "    <tr>\n",
              "      <th>53</th>\n",
              "      <td>54</td>\n",
              "      <td>8</td>\n",
              "      <td>84</td>\n",
              "      <td>Tubarão, Capivari e outros</td>\n",
              "      <td>POLYGON ((-49.25234 -27.90785, -49.29004 -27.9...</td>\n",
              "    </tr>\n",
              "    <tr>\n",
              "      <th>75</th>\n",
              "      <td>76</td>\n",
              "      <td>8</td>\n",
              "      <td>85</td>\n",
              "      <td>Alto Jacuí</td>\n",
              "      <td>POLYGON ((-53.19447 -28.23173, -53.21670 -28.2...</td>\n",
              "    </tr>\n",
              "    <tr>\n",
              "      <th>54</th>\n",
              "      <td>55</td>\n",
              "      <td>8</td>\n",
              "      <td>86</td>\n",
              "      <td>Taquari</td>\n",
              "      <td>POLYGON ((-51.71990 -29.94244, -51.71888 -29.9...</td>\n",
              "    </tr>\n",
              "    <tr>\n",
              "      <th>56</th>\n",
              "      <td>57</td>\n",
              "      <td>8</td>\n",
              "      <td>87</td>\n",
              "      <td>Camaquã, Jacuí, lagoa dos Patos e outros</td>\n",
              "      <td>POLYGON ((-53.79216 -31.30957, -53.77834 -31.3...</td>\n",
              "    </tr>\n",
              "    <tr>\n",
              "      <th>55</th>\n",
              "      <td>56</td>\n",
              "      <td>8</td>\n",
              "      <td>88</td>\n",
              "      <td>Jaguarão e lagoa Mirim no Brasil e outros</td>\n",
              "      <td>POLYGON ((-53.44223 -32.55850, -53.39219 -32.5...</td>\n",
              "    </tr>\n",
              "  </tbody>\n",
              "</table>\n",
              "<p>76 rows × 5 columns</p>\n",
              "</div>\n",
              "      <button class=\"colab-df-convert\" onclick=\"convertToInteractive('df-08f40a8d-0b74-48a6-bec6-314d26eef242')\"\n",
              "              title=\"Convert this dataframe to an interactive table.\"\n",
              "              style=\"display:none;\">\n",
              "\n",
              "  <svg xmlns=\"http://www.w3.org/2000/svg\" height=\"24px\"viewBox=\"0 0 24 24\"\n",
              "       width=\"24px\">\n",
              "    <path d=\"M0 0h24v24H0V0z\" fill=\"none\"/>\n",
              "    <path d=\"M18.56 5.44l.94 2.06.94-2.06 2.06-.94-2.06-.94-.94-2.06-.94 2.06-2.06.94zm-11 1L8.5 8.5l.94-2.06 2.06-.94-2.06-.94L8.5 2.5l-.94 2.06-2.06.94zm10 10l.94 2.06.94-2.06 2.06-.94-2.06-.94-.94-2.06-.94 2.06-2.06.94z\"/><path d=\"M17.41 7.96l-1.37-1.37c-.4-.4-.92-.59-1.43-.59-.52 0-1.04.2-1.43.59L10.3 9.45l-7.72 7.72c-.78.78-.78 2.05 0 2.83L4 21.41c.39.39.9.59 1.41.59.51 0 1.02-.2 1.41-.59l7.78-7.78 2.81-2.81c.8-.78.8-2.07 0-2.86zM5.41 20L4 18.59l7.72-7.72 1.47 1.35L5.41 20z\"/>\n",
              "  </svg>\n",
              "      </button>\n",
              "\n",
              "\n",
              "\n",
              "    <div id=\"df-7e0997f8-c5f8-4bee-b537-cb3bafab6816\">\n",
              "      <button class=\"colab-df-quickchart\" onclick=\"quickchart('df-7e0997f8-c5f8-4bee-b537-cb3bafab6816')\"\n",
              "              title=\"Suggest charts.\"\n",
              "              style=\"display:none;\">\n",
              "\n",
              "<svg xmlns=\"http://www.w3.org/2000/svg\" height=\"24px\"viewBox=\"0 0 24 24\"\n",
              "     width=\"24px\">\n",
              "    <g>\n",
              "        <path d=\"M19 3H5c-1.1 0-2 .9-2 2v14c0 1.1.9 2 2 2h14c1.1 0 2-.9 2-2V5c0-1.1-.9-2-2-2zM9 17H7v-7h2v7zm4 0h-2V7h2v10zm4 0h-2v-4h2v4z\"/>\n",
              "    </g>\n",
              "</svg>\n",
              "      </button>\n",
              "    </div>\n",
              "\n",
              "<style>\n",
              "  .colab-df-quickchart {\n",
              "    background-color: #E8F0FE;\n",
              "    border: none;\n",
              "    border-radius: 50%;\n",
              "    cursor: pointer;\n",
              "    display: none;\n",
              "    fill: #1967D2;\n",
              "    height: 32px;\n",
              "    padding: 0 0 0 0;\n",
              "    width: 32px;\n",
              "  }\n",
              "\n",
              "  .colab-df-quickchart:hover {\n",
              "    background-color: #E2EBFA;\n",
              "    box-shadow: 0px 1px 2px rgba(60, 64, 67, 0.3), 0px 1px 3px 1px rgba(60, 64, 67, 0.15);\n",
              "    fill: #174EA6;\n",
              "  }\n",
              "\n",
              "  [theme=dark] .colab-df-quickchart {\n",
              "    background-color: #3B4455;\n",
              "    fill: #D2E3FC;\n",
              "  }\n",
              "\n",
              "  [theme=dark] .colab-df-quickchart:hover {\n",
              "    background-color: #434B5C;\n",
              "    box-shadow: 0px 1px 3px 1px rgba(0, 0, 0, 0.15);\n",
              "    filter: drop-shadow(0px 1px 2px rgba(0, 0, 0, 0.3));\n",
              "    fill: #FFFFFF;\n",
              "  }\n",
              "</style>\n",
              "\n",
              "    <script>\n",
              "      async function quickchart(key) {\n",
              "        const containerElement = document.querySelector('#' + key);\n",
              "        const charts = await google.colab.kernel.invokeFunction(\n",
              "            'suggestCharts', [key], {});\n",
              "      }\n",
              "    </script>\n",
              "\n",
              "      <script>\n",
              "\n",
              "function displayQuickchartButton(domScope) {\n",
              "  let quickchartButtonEl =\n",
              "    domScope.querySelector('#df-7e0997f8-c5f8-4bee-b537-cb3bafab6816 button.colab-df-quickchart');\n",
              "  quickchartButtonEl.style.display =\n",
              "    google.colab.kernel.accessAllowed ? 'block' : 'none';\n",
              "}\n",
              "\n",
              "        displayQuickchartButton(document);\n",
              "      </script>\n",
              "      <style>\n",
              "    .colab-df-container {\n",
              "      display:flex;\n",
              "      flex-wrap:wrap;\n",
              "      gap: 12px;\n",
              "    }\n",
              "\n",
              "    .colab-df-convert {\n",
              "      background-color: #E8F0FE;\n",
              "      border: none;\n",
              "      border-radius: 50%;\n",
              "      cursor: pointer;\n",
              "      display: none;\n",
              "      fill: #1967D2;\n",
              "      height: 32px;\n",
              "      padding: 0 0 0 0;\n",
              "      width: 32px;\n",
              "    }\n",
              "\n",
              "    .colab-df-convert:hover {\n",
              "      background-color: #E2EBFA;\n",
              "      box-shadow: 0px 1px 2px rgba(60, 64, 67, 0.3), 0px 1px 3px 1px rgba(60, 64, 67, 0.15);\n",
              "      fill: #174EA6;\n",
              "    }\n",
              "\n",
              "    [theme=dark] .colab-df-convert {\n",
              "      background-color: #3B4455;\n",
              "      fill: #D2E3FC;\n",
              "    }\n",
              "\n",
              "    [theme=dark] .colab-df-convert:hover {\n",
              "      background-color: #434B5C;\n",
              "      box-shadow: 0px 1px 3px 1px rgba(0, 0, 0, 0.15);\n",
              "      filter: drop-shadow(0px 1px 2px rgba(0, 0, 0, 0.3));\n",
              "      fill: #FFFFFF;\n",
              "    }\n",
              "  </style>\n",
              "\n",
              "      <script>\n",
              "        const buttonEl =\n",
              "          document.querySelector('#df-08f40a8d-0b74-48a6-bec6-314d26eef242 button.colab-df-convert');\n",
              "        buttonEl.style.display =\n",
              "          google.colab.kernel.accessAllowed ? 'block' : 'none';\n",
              "\n",
              "        async function convertToInteractive(key) {\n",
              "          const element = document.querySelector('#df-08f40a8d-0b74-48a6-bec6-314d26eef242');\n",
              "          const dataTable =\n",
              "            await google.colab.kernel.invokeFunction('convertToInteractive',\n",
              "                                                     [key], {});\n",
              "          if (!dataTable) return;\n",
              "\n",
              "          const docLinkHtml = 'Like what you see? Visit the ' +\n",
              "            '<a target=\"_blank\" href=https://colab.research.google.com/notebooks/data_table.ipynb>data table notebook</a>'\n",
              "            + ' to learn more about interactive tables.';\n",
              "          element.innerHTML = '';\n",
              "          dataTable['output_type'] = 'display_data';\n",
              "          await google.colab.output.renderOutput(dataTable, element);\n",
              "          const docLink = document.createElement('div');\n",
              "          docLink.innerHTML = docLinkHtml;\n",
              "          element.appendChild(docLink);\n",
              "        }\n",
              "      </script>\n",
              "    </div>\n",
              "  </div>\n"
            ]
          },
          "metadata": {},
          "execution_count": 5
        }
      ]
    },
    {
      "cell_type": "code",
      "source": [
        "df_shape_sub_brasil.plot(figsize=(8,8))"
      ],
      "metadata": {
        "colab": {
          "base_uri": "https://localhost:8080/",
          "height": 693
        },
        "id": "_zJmjJ1cAWxe",
        "outputId": "b0edf140-0e35-4c7a-c678-afebf2f5e81e"
      },
      "execution_count": 6,
      "outputs": [
        {
          "output_type": "execute_result",
          "data": {
            "text/plain": [
              "<Axes: >"
            ]
          },
          "metadata": {},
          "execution_count": 6
        },
        {
          "output_type": "display_data",
          "data": {
            "text/plain": [
              "<Figure size 800x800 with 1 Axes>"
            ],
            "image/png": "[encoded data removed]"
          },
          "metadata": {}
        }
      ]
    },
    {
      "cell_type": "code",
      "source": [
        "# Filtro por sub-bacia\n",
        "sb = int(input(\"Digite a Sub-bacia de interesse: \"))\n",
        "subbacia_select = df_shape_sub_brasil.loc[df_shape_sub_brasil.DNS_NU_SUB== sb ].to_crs(epsg='4326') #CONVERTE A GEOMETRIA PARA O SISTEMA MÉTRICO\n",
        "subbacia_select\n",
        "\n",
        "# Filtro por bacia\n",
        "#b = int(input(\"Digite a Bacia de interesse: \"))\n",
        "#bacia_select = df_shape_sub_brasil.loc[df_shape_sub_brasil.DNS_DNB_CD== b ].to_crs(epsg='4326') #CONVERTE A GEOMETRIA PARA O SISTEMA MÉTRICO\n",
        "#bacia_select"
      ],
      "metadata": {
        "colab": {
          "base_uri": "https://localhost:8080/",
          "height": 98
        },
        "id": "wWcNUFWjAlJC",
        "outputId": "7f68a72a-87cd-4130-d75d-f0837d3ec820"
      },
      "execution_count": 7,
      "outputs": [
        {
          "name": "stdout",
          "output_type": "stream",
          "text": [
            "Digite a Sub-bacia de interesse: 76\n"
          ]
        },
        {
          "output_type": "execute_result",
          "data": {
            "text/plain": [
              "    OBJECTID  DNS_DNB_CD  DNS_NU_SUB  DNS_NM  \\\n",
              "51        52           7          76  Ibicuí   \n",
              "\n",
              "                                             geometry  \n",
              "51  POLYGON ((-54.11611 -31.04006, -54.10779 -31.0...  "
            ],
            "text/html": [
              "\n",
              "\n",
              "  <div id=\"df-3ab32ac7-0fb7-4301-a24f-d0d7929ac513\">\n",
              "    <div class=\"colab-df-container\">\n",
              "      <div>\n",
              "<style scoped>\n",
              "    .dataframe tbody tr th:only-of-type {\n",
              "        vertical-align: middle;\n",
              "    }\n",
              "\n",
              "    .dataframe tbody tr th {\n",
              "        vertical-align: top;\n",
              "    }\n",
              "\n",
              "    .dataframe thead th {\n",
              "        text-align: right;\n",
              "    }\n",
              "</style>\n",
              "<table border=\"1\" class=\"dataframe\">\n",
              "  <thead>\n",
              "    <tr style=\"text-align: right;\">\n",
              "      <th></th>\n",
              "      <th>OBJECTID</th>\n",
              "      <th>DNS_DNB_CD</th>\n",
              "      <th>DNS_NU_SUB</th>\n",
              "      <th>DNS_NM</th>\n",
              "      <th>geometry</th>\n",
              "    </tr>\n",
              "  </thead>\n",
              "  <tbody>\n",
              "    <tr>\n",
              "      <th>51</th>\n",
              "      <td>52</td>\n",
              "      <td>7</td>\n",
              "      <td>76</td>\n",
              "      <td>Ibicuí</td>\n",
              "      <td>POLYGON ((-54.11611 -31.04006, -54.10779 -31.0...</td>\n",
              "    </tr>\n",
              "  </tbody>\n",
              "</table>\n",
              "</div>\n",
              "      <button class=\"colab-df-convert\" onclick=\"convertToInteractive('df-3ab32ac7-0fb7-4301-a24f-d0d7929ac513')\"\n",
              "              title=\"Convert this dataframe to an interactive table.\"\n",
              "              style=\"display:none;\">\n",
              "\n",
              "  <svg xmlns=\"http://www.w3.org/2000/svg\" height=\"24px\"viewBox=\"0 0 24 24\"\n",
              "       width=\"24px\">\n",
              "    <path d=\"M0 0h24v24H0V0z\" fill=\"none\"/>\n",
              "    <path d=\"M18.56 5.44l.94 2.06.94-2.06 2.06-.94-2.06-.94-.94-2.06-.94 2.06-2.06.94zm-11 1L8.5 8.5l.94-2.06 2.06-.94-2.06-.94L8.5 2.5l-.94 2.06-2.06.94zm10 10l.94 2.06.94-2.06 2.06-.94-2.06-.94-.94-2.06-.94 2.06-2.06.94z\"/><path d=\"M17.41 7.96l-1.37-1.37c-.4-.4-.92-.59-1.43-.59-.52 0-1.04.2-1.43.59L10.3 9.45l-7.72 7.72c-.78.78-.78 2.05 0 2.83L4 21.41c.39.39.9.59 1.41.59.51 0 1.02-.2 1.41-.59l7.78-7.78 2.81-2.81c.8-.78.8-2.07 0-2.86zM5.41 20L4 18.59l7.72-7.72 1.47 1.35L5.41 20z\"/>\n",
              "  </svg>\n",
              "      </button>\n",
              "\n",
              "\n",
              "\n",
              "    <div id=\"df-0d0d7177-b466-4a6f-a871-e532fc6bbba8\">\n",
              "      <button class=\"colab-df-quickchart\" onclick=\"quickchart('df-0d0d7177-b466-4a6f-a871-e532fc6bbba8')\"\n",
              "              title=\"Suggest charts.\"\n",
              "              style=\"display:none;\">\n",
              "\n",
              "<svg xmlns=\"http://www.w3.org/2000/svg\" height=\"24px\"viewBox=\"0 0 24 24\"\n",
              "     width=\"24px\">\n",
              "    <g>\n",
              "        <path d=\"M19 3H5c-1.1 0-2 .9-2 2v14c0 1.1.9 2 2 2h14c1.1 0 2-.9 2-2V5c0-1.1-.9-2-2-2zM9 17H7v-7h2v7zm4 0h-2V7h2v10zm4 0h-2v-4h2v4z\"/>\n",
              "    </g>\n",
              "</svg>\n",
              "      </button>\n",
              "    </div>\n",
              "\n",
              "<style>\n",
              "  .colab-df-quickchart {\n",
              "    background-color: #E8F0FE;\n",
              "    border: none;\n",
              "    border-radius: 50%;\n",
              "    cursor: pointer;\n",
              "    display: none;\n",
              "    fill: #1967D2;\n",
              "    height: 32px;\n",
              "    padding: 0 0 0 0;\n",
              "    width: 32px;\n",
              "  }\n",
              "\n",
              "  .colab-df-quickchart:hover {\n",
              "    background-color: #E2EBFA;\n",
              "    box-shadow: 0px 1px 2px rgba(60, 64, 67, 0.3), 0px 1px 3px 1px rgba(60, 64, 67, 0.15);\n",
              "    fill: #174EA6;\n",
              "  }\n",
              "\n",
              "  [theme=dark] .colab-df-quickchart {\n",
              "    background-color: #3B4455;\n",
              "    fill: #D2E3FC;\n",
              "  }\n",
              "\n",
              "  [theme=dark] .colab-df-quickchart:hover {\n",
              "    background-color: #434B5C;\n",
              "    box-shadow: 0px 1px 3px 1px rgba(0, 0, 0, 0.15);\n",
              "    filter: drop-shadow(0px 1px 2px rgba(0, 0, 0, 0.3));\n",
              "    fill: #FFFFFF;\n",
              "  }\n",
              "</style>\n",
              "\n",
              "    <script>\n",
              "      async function quickchart(key) {\n",
              "        const containerElement = document.querySelector('#' + key);\n",
              "        const charts = await google.colab.kernel.invokeFunction(\n",
              "            'suggestCharts', [key], {});\n",
              "      }\n",
              "    </script>\n",
              "\n",
              "      <script>\n",
              "\n",
              "function displayQuickchartButton(domScope) {\n",
              "  let quickchartButtonEl =\n",
              "    domScope.querySelector('#df-0d0d7177-b466-4a6f-a871-e532fc6bbba8 button.colab-df-quickchart');\n",
              "  quickchartButtonEl.style.display =\n",
              "    google.colab.kernel.accessAllowed ? 'block' : 'none';\n",
              "}\n",
              "\n",
              "        displayQuickchartButton(document);\n",
              "      </script>\n",
              "      <style>\n",
              "    .colab-df-container {\n",
              "      display:flex;\n",
              "      flex-wrap:wrap;\n",
              "      gap: 12px;\n",
              "    }\n",
              "\n",
              "    .colab-df-convert {\n",
              "      background-color: #E8F0FE;\n",
              "      border: none;\n",
              "      border-radius: 50%;\n",
              "      cursor: pointer;\n",
              "      display: none;\n",
              "      fill: #1967D2;\n",
              "      height: 32px;\n",
              "      padding: 0 0 0 0;\n",
              "      width: 32px;\n",
              "    }\n",
              "\n",
              "    .colab-df-convert:hover {\n",
              "      background-color: #E2EBFA;\n",
              "      box-shadow: 0px 1px 2px rgba(60, 64, 67, 0.3), 0px 1px 3px 1px rgba(60, 64, 67, 0.15);\n",
              "      fill: #174EA6;\n",
              "    }\n",
              "\n",
              "    [theme=dark] .colab-df-convert {\n",
              "      background-color: #3B4455;\n",
              "      fill: #D2E3FC;\n",
              "    }\n",
              "\n",
              "    [theme=dark] .colab-df-convert:hover {\n",
              "      background-color: #434B5C;\n",
              "      box-shadow: 0px 1px 3px 1px rgba(0, 0, 0, 0.15);\n",
              "      filter: drop-shadow(0px 1px 2px rgba(0, 0, 0, 0.3));\n",
              "      fill: #FFFFFF;\n",
              "    }\n",
              "  </style>\n",
              "\n",
              "      <script>\n",
              "        const buttonEl =\n",
              "          document.querySelector('#df-3ab32ac7-0fb7-4301-a24f-d0d7929ac513 button.colab-df-convert');\n",
              "        buttonEl.style.display =\n",
              "          google.colab.kernel.accessAllowed ? 'block' : 'none';\n",
              "\n",
              "        async function convertToInteractive(key) {\n",
              "          const element = document.querySelector('#df-3ab32ac7-0fb7-4301-a24f-d0d7929ac513');\n",
              "          const dataTable =\n",
              "            await google.colab.kernel.invokeFunction('convertToInteractive',\n",
              "                                                     [key], {});\n",
              "          if (!dataTable) return;\n",
              "\n",
              "          const docLinkHtml = 'Like what you see? Visit the ' +\n",
              "            '<a target=\"_blank\" href=https://colab.research.google.com/notebooks/data_table.ipynb>data table notebook</a>'\n",
              "            + ' to learn more about interactive tables.';\n",
              "          element.innerHTML = '';\n",
              "          dataTable['output_type'] = 'display_data';\n",
              "          await google.colab.output.renderOutput(dataTable, element);\n",
              "          const docLink = document.createElement('div');\n",
              "          docLink.innerHTML = docLinkHtml;\n",
              "          element.appendChild(docLink);\n",
              "        }\n",
              "      </script>\n",
              "    </div>\n",
              "  </div>\n"
            ]
          },
          "metadata": {},
          "execution_count": 7
        }
      ]
    },
    {
      "cell_type": "code",
      "source": [
        "indice_selecionado = subbacia_select.index\n",
        "name_bacia = subbacia_select.DNS_NM.to_list()\n",
        "name_bacia = name_bacia[0]"
      ],
      "metadata": {
        "id": "UDDnXTsJC34x"
      },
      "execution_count": 8,
      "outputs": []
    },
    {
      "cell_type": "code",
      "source": [
        "subbacia_select.plot(figsize=(6,6), legend='true', color= 'red', alpha = .5)\n",
        "plt.xlabel('Longitude')\n",
        "plt.ylabel('Latitude')\n",
        "plt.title('Mapa da bacia %s'%name_bacia)"
      ],
      "metadata": {
        "colab": {
          "base_uri": "https://localhost:8080/",
          "height": 554
        },
        "id": "z3H0Jh3TCDaI",
        "outputId": "6feac608-f77f-4eb0-e679-bd4c3ea91794"
      },
      "execution_count": 9,
      "outputs": [
        {
          "output_type": "execute_result",
          "data": {
            "text/plain": [
              "Text(0.5, 1.0, 'Mapa da bacia Ibicuí')"
            ]
          },
          "metadata": {},
          "execution_count": 9
        },
        {
          "output_type": "display_data",
          "data": {
            "text/plain": [
              "<Figure size 600x600 with 1 Axes>"
            ],
            "image/png": "[encoded data removed]"
          },
          "metadata": {}
        }
      ]
    },
    {
      "cell_type": "markdown",
      "source": [
        "### Download metadados da ANA"
      ],
      "metadata": {
        "id": "YqyI0eTE02fH"
      }
    },
    {
      "cell_type": "code",
      "source": [
        "\n",
        "# Importando dataframes de vazão e precipitação da ANA\n",
        "meta_flow = download.metadata_ana_flow(folder='/content/Separacao_flow',)\n",
        "meta_prec = download.metadata_ana_prec(folder='/content/Separacao_flow',)\n",
        "\n",
        "# Importando DataFrames dos metadados\n",
        "df_meta_flow = load.metadata_ana_flow(file=meta_flow)  # vazões\n",
        "df_meta_prec = load.metadata_ana_prec(file=meta_prec)  # precipitação\n",
        "\n",
        "print('Metadados de vazão')\n",
        "print(df_meta_flow.head().to_string())\n",
        "print()\n",
        "print('Metadados de precipitação')\n",
        "print(df_meta_prec.head().to_string())\n",
        "\n",
        "#df_meta_flow.info() #informações do dataframe"
      ],
      "metadata": {
        "colab": {
          "base_uri": "https://localhost:8080/"
        },
        "id": "ytleEMFbyexC",
        "outputId": "e750a8cc-2270-4156-81a4-420e59282ee7"
      },
      "execution_count": 10,
      "outputs": [
        {
          "output_type": "stream",
          "name": "stdout",
          "text": [
            "Metadados de vazão\n",
            "                   Name CodEstacao Type  DrainageArea  SubBasin  City State   Responsible  Latitude  Longitude  StartDate    EndDate  NYD    MD  N_YWOMD  YWMD\n",
            "0                 BORJA   10064000    1      115000.0        10  PERU  PERU  SENAMHI-PERU   -4.4700   -77.5500 1986-02-02 2013-03-15   28  27.6       17  39.3\n",
            "1             SAN REGIS   10070500    1      316000.0        10  PERU  PERU  SENAMHI-PERU   -4.5100   -73.9500 1994-05-16 2005-10-17   12   0.1       10  16.7\n",
            "2               REQUENA   10074800    1        4738.0        10  PERU  PERU  SENAMHI-PERU   -5.0300   -73.8300 1984-10-25 2005-10-17   22   8.6       15  31.8\n",
            "3           TAMISHIYACU   10075000    1        8985.0        10  PERU  PERU  SENAMHI-PERU   -4.0036   -73.1611 1983-10-02 2010-09-13   28   5.0       23  17.9\n",
            "4  FRANCISCO DE ORELLAN   10080900    1           NaN        10  PERU  PERU  SENAMHI-PERU   -0.4731   -76.9825 2001-01-02 2005-10-29    5   0.1        3  40.0\n",
            "\n",
            "Metadados de precipitação\n",
            "          Name CodEstacao Type  SubBasin         City State Responsible  Latitude  Longitude  StartDate    EndDate  NYD    MD  N_YWOMD   YWMD\n",
            "0  SALINÓPOLIS   00047000    2        32  SALINÓPOLIS  PARÁ       INMET   -0.6500   -47.5500 1958-01-01 1964-12-31    7  25.0        0  100.0\n",
            "1  SALINÓPOLIS   00047002    2        32  SALINÓPOLIS  PARÁ         ANA   -0.6231   -47.3536 1977-12-09 2019-08-31   43   3.5       35   18.6\n",
            "2       CURUÇA   00047003    2        32       CURUÇA  PARÁ         ANA   -0.7375   -47.8536 1981-07-01 2019-07-31   39   2.4       29   25.6\n",
            "3    PRIMAVERA   00047004    2        32    PRIMAVERA  PARÁ         ANA   -0.9294   -47.0994 1982-02-18 2019-08-31   38   0.0       35    7.9\n",
            "4       MARUDA   00047005    2        32    MARAPANIM  PARÁ         ANA   -0.6336   -47.6583 1989-08-21 2019-07-31   31   5.0       20   35.5\n"
          ]
        }
      ]
    },
    {
      "cell_type": "markdown",
      "source": [
        "#### Plotagem das estações"
      ],
      "metadata": {
        "id": "s1ejhCQt-Btd"
      }
    },
    {
      "cell_type": "code",
      "source": [
        "\n",
        "# Criando uma lista de geometrias no formato de ponto\n",
        "pontos = [Point(x) for x in zip(df_meta_flow.Longitude,\n",
        "                                df_meta_flow.Latitude)]\n",
        "# Definindo o sistema de coordenadas\n",
        "crs={'proj':'latlong','ellps':'WGS84','datum':'WGS84','no_def':True}\n",
        "\n",
        "# Criando o geodataframe\n",
        "df_meta_flow_geo = gpd.GeoDataFrame(df_meta_flow, geometry=pontos,crs=crs)\n",
        "\n",
        "df_meta_flow_geo.plot(figsize=(8,8))"
      ],
      "metadata": {
        "colab": {
          "base_uri": "https://localhost:8080/",
          "height": 652
        },
        "id": "qu7dUoS4-JXt",
        "outputId": "a97ca80e-6fca-4cfa-b2bb-5f40ef47ddd8"
      },
      "execution_count": 11,
      "outputs": [
        {
          "output_type": "execute_result",
          "data": {
            "text/plain": [
              "<Axes: >"
            ]
          },
          "metadata": {},
          "execution_count": 11
        },
        {
          "output_type": "display_data",
          "data": {
            "text/plain": [
              "<Figure size 800x800 with 1 Axes>"
            ],
            "image/png": "[encoded data removed]"
          },
          "metadata": {}
        }
      ]
    },
    {
      "cell_type": "markdown",
      "source": [
        "### Escolha de estação de vazão para separação de eventos"
      ],
      "metadata": {
        "id": "iKq35-Y12-Yb"
      }
    },
    {
      "cell_type": "code",
      "source": [
        "df_meta_flow = df_meta_flow.astype({\"CodEstacao\": int}) # Transforma a coluna CodEstacao em int\n",
        "flow_station = '76800000' # Estação de vazão selecionada para separação de eventos\n",
        "#df = df_meta_flow[df_meta_flow.CodEstacao.isin(flow_station)] # Filtra Dataframe da estação de vazão selecionada\n",
        "file_flow = download.ana_flow(code=flow_station, folder='/content/Separacao_flow') # Download da série de vazão\n",
        "\n",
        "df_flow = pd.read_csv(\"/content/Separacao_flow/ANA-flow_76800000_1964-2023__by-2023-07-12.txt\", sep=\";\") #Carregando série de vazão\n",
        "df_flow"
      ],
      "metadata": {
        "id": "h3TXzV862VG7"
      },
      "execution_count": null,
      "outputs": []
    },
    {
      "cell_type": "code",
      "source": [
        "fig = go.Figure()\n",
        "fig.add_trace(go.Scatter(x=df_flow.Date, y=df_flow['Flow'], name=\"Vazão\"))#,line_color='black'))\n",
        "fig.layout.update(title_text='Série de vazão da estação selecionada',xaxis_rangeslider_visible=True)\n",
        "fig"
      ],
      "metadata": {
        "id": "tJQ7kr6_56On"
      },
      "execution_count": null,
      "outputs": []
    },
    {
      "cell_type": "markdown",
      "source": [
        "### Estações de precipitação para gerar IDW"
      ],
      "metadata": {
        "id": "D_QyYy5q52IJ"
      }
    },
    {
      "cell_type": "code",
      "source": [
        "stations_code_list = ['02850019','02854012','02855004','02953008','02953030','02954001','02954004','02954005','02954031','02955006','02955007','02955013',\n",
        "                      '02955017','02956006','03053004','03053023','03053024','03053028','03054002','03054016','03054019','03054020','03054021','03055003',\n",
        "                      '03056007','03154003','03154008','03155001']\n",
        "print(stations_code_list)\n",
        "print(len(stations_code_list))"
      ],
      "metadata": {
        "colab": {
          "base_uri": "https://localhost:8080/"
        },
        "id": "7uykQTweK2gb",
        "outputId": "ed912327-0585-4458-ee73-824f9c75741b"
      },
      "execution_count": 37,
      "outputs": [
        {
          "output_type": "stream",
          "name": "stdout",
          "text": [
            "['02850019', '02854012', '02855004', '02953008', '02953030', '02954001', '02954004', '02954005', '02954031', '02955006', '02955007', '02955013', '02955017', '02956006', '03053004', '03053023', '03053024', '03053028', '03054002', '03054016', '03054019', '03054020', '03054021', '03055003', '03056007', '03154003', '03154008', '03155001']\n",
            "28\n"
          ]
        }
      ]
    },
    {
      "cell_type": "code",
      "source": [
        "data_stations = hydrobr.get_data.ANA.prec_data(stations_code_list, only_consisted=False) #dados brutos"
      ],
      "metadata": {
        "colab": {
          "base_uri": "https://localhost:8080/"
        },
        "id": "sNIVPKnFK1mA",
        "outputId": "f4874027-ed85-422c-dab7-9574cf408981"
      },
      "execution_count": 33,
      "outputs": [
        {
          "output_type": "stream",
          "name": "stderr",
          "text": [
            "100%|██████████| 28/28 [02:35<00:00,  5.55s/it]\n"
          ]
        }
      ]
    },
    {
      "cell_type": "code",
      "source": [
        "gantt_fig = hydrobr.Plot.gantt(data_stations) #Get the Gantt Fig\n",
        "\n",
        "#Updating the layout\n",
        "gantt_fig.update_layout(\n",
        "    autosize=False,\n",
        "    width=1200,\n",
        "    height=500,\n",
        "    xaxis_title = 'Year',\n",
        "    yaxis_title = 'Station Code',\n",
        "    font=dict(family=\"Courier New, monospace\", size=12))\n",
        "\n",
        "#To plot and save the gantt plot as html\n",
        "plot(gantt_fig,filename='gantt' + '.html')"
      ],
      "metadata": {
        "colab": {
          "base_uri": "https://localhost:8080/",
          "height": 35
        },
        "id": "UoXzOPjTK5Qi",
        "outputId": "8f99f485-5f10-42df-b137-6929a2c92e95"
      },
      "execution_count": 34,
      "outputs": [
        {
          "output_type": "execute_result",
          "data": {
            "text/plain": [
              "'gantt.html'"
            ],
            "application/vnd.google.colaboratory.intrinsic+json": {
              "type": "string"
            }
          },
          "metadata": {},
          "execution_count": 34
        }
      ]
    },
    {
      "cell_type": "code",
      "source": [
        "gantt_fig"
      ],
      "metadata": {
        "colab": {
          "base_uri": "https://localhost:8080/",
          "height": 517
        },
        "id": "NhnDm3tGK8yv",
        "outputId": "7931850b-e937-4431-f78a-c7fac50ef7c9"
      },
      "execution_count": 35,
      "outputs": [
        {
          "output_type": "display_data",
          "data": {
            "text/html": [
              "<html>\n",
              "<head><meta charset=\"utf-8\" /></head>\n",
              "<body>\n",
              "    <div>            <script src=\"https://cdnjs.cloudflare.com/ajax/libs/mathjax/2.7.5/MathJax.js?config=TeX-AMS-MML_SVG\"></script><script type=\"text/javascript\">if (window.MathJax && window.MathJax.Hub && window.MathJax.Hub.Config) {window.MathJax.Hub.Config({SVG: {font: \"STIX-Web\"}});}</script>                <script type=\"text/javascript\">window.PlotlyConfig = {MathJaxConfig: 'local'};</script>\n",
              "        <script src=\"https://cdn.plot.ly/plotly-2.18.2.min.js\"></script>                <div id=\"ed146caa-9d29-4654-b3e2-2ed6be88bb4b\" class=\"plotly-graph-div\" style=\"height:500px; width:1200px;\"></div>            <script type=\"text/javascript\">                                    window.PLOTLYENV=window.PLOTLYENV || {};                                    if (document.getElementById(\"ed146caa-9d29-4654-b3e2-2ed6be88bb4b\")) {                    Plotly.newPlot(                        \"ed146caa-9d29-4654-b3e2-2ed6be88bb4b\",                        [{\"fill\":\"toself\",\"fillcolor\":\"rgb(0, 191, 255)\",\"hoverinfo\":\"name\",\"legendgroup\":\"rgb(0, 191, 255)\",\"mode\":\"none\",\"name\":\"Available data\",\"x\":[\"2003-1-1\",\"2006-4-1\",\"2006-4-1\",\"2003-1-1\",\"2003-1-1\",\"2006-9-1\",\"2007-8-1\",\"2007-8-1\",\"2006-9-1\",\"2006-9-1\",\"2007-12-1\",\"2009-8-1\",\"2009-8-1\",\"2007-12-1\",\"2007-12-1\",\"2009-10-1\",\"2009-11-1\",\"2009-11-1\",\"2009-10-1\",\"2009-10-1\",\"2010-1-1\",\"2022-11-1\",\"2022-11-1\",\"2010-1-1\",\"2010-1-1\",\"2023-1-1\",\"2023-2-1\",\"2023-2-1\",\"2023-1-1\",\"2023-1-1\",\"1976-10-1\",\"1993-12-1\",\"1993-12-1\",\"1976-10-1\",\"1976-10-1\",\"1994-2-1\",\"1996-2-1\",\"1996-2-1\",\"1994-2-1\",\"1994-2-1\",\"1996-4-1\",\"2006-6-1\",\"2006-6-1\",\"1996-4-1\",\"1996-4-1\",\"2006-9-1\",\"2007-6-1\",\"2007-6-1\",\"2006-9-1\",\"2006-9-1\",\"2007-8-1\",\"2007-8-1\",\"2007-8-1\",\"2007-8-1\",\"2007-8-1\",\"2007-11-1\",\"2009-11-1\",\"2009-11-1\",\"2007-11-1\",\"2007-11-1\",\"2010-1-1\",\"2023-2-1\",\"2023-2-1\",\"2010-1-1\",\"2010-1-1\",\"1978-9-1\",\"2006-6-1\",\"2006-6-1\",\"1978-9-1\",\"1978-9-1\",\"2006-9-1\",\"2007-8-1\",\"2007-8-1\",\"2006-9-1\",\"2006-9-1\",\"2007-12-1\",\"2009-8-1\",\"2009-8-1\",\"2007-12-1\",\"2007-12-1\",\"2009-11-1\",\"2009-11-1\",\"2009-11-1\",\"2009-11-1\",\"2009-11-1\",\"2010-1-1\",\"2022-12-1\",\"2022-12-1\",\"2010-1-1\",\"2010-1-1\",\"1943-5-1\",\"1947-2-1\",\"1947-2-1\",\"1943-5-1\",\"1943-5-1\",\"1947-4-1\",\"1957-3-1\",\"1957-3-1\",\"1947-4-1\",\"1947-4-1\",\"1957-6-1\",\"1957-8-1\",\"1957-8-1\",\"1957-6-1\",\"1957-6-1\",\"1959-4-1\",\"2009-8-1\",\"2009-8-1\",\"1959-4-1\",\"1959-4-1\",\"2009-10-1\",\"2009-10-1\",\"2009-10-1\",\"2009-10-1\",\"2009-10-1\",\"2010-3-1\",\"2010-3-1\",\"2010-3-1\",\"2010-3-1\",\"2010-3-1\",\"2010-5-1\",\"2010-7-1\",\"2010-7-1\",\"2010-5-1\",\"2010-5-1\",\"2010-9-1\",\"2023-2-1\",\"2023-2-1\",\"2010-9-1\",\"2010-9-1\",\"1976-7-1\",\"1992-2-1\",\"1992-2-1\",\"1976-7-1\",\"1976-7-1\",\"1992-10-1\",\"2006-5-1\",\"2006-5-1\",\"1992-10-1\",\"1992-10-1\",\"2006-8-1\",\"2007-7-1\",\"2007-7-1\",\"2006-8-1\",\"2006-8-1\",\"2007-11-1\",\"2009-8-1\",\"2009-8-1\",\"2007-11-1\",\"2007-11-1\",\"2009-10-1\",\"2009-10-1\",\"2009-10-1\",\"2009-10-1\",\"2009-10-1\",\"2010-5-1\",\"2010-7-1\",\"2010-7-1\",\"2010-5-1\",\"2010-5-1\",\"2010-9-1\",\"2023-2-1\",\"2023-2-1\",\"2010-9-1\",\"2010-9-1\",\"1943-5-1\",\"1995-3-1\",\"1995-3-1\",\"1943-5-1\",\"1943-5-1\",\"1995-5-1\",\"2007-8-1\",\"2007-8-1\",\"1995-5-1\",\"1995-5-1\",\"2007-12-1\",\"2009-8-1\",\"2009-8-1\",\"2007-12-1\",\"2007-12-1\",\"2009-10-1\",\"2009-11-1\",\"2009-11-1\",\"2009-10-1\",\"2009-10-1\",\"2010-3-1\",\"2010-3-1\",\"2010-3-1\",\"2010-3-1\",\"2010-3-1\",\"2010-5-1\",\"2010-7-1\",\"2010-7-1\",\"2010-5-1\",\"2010-5-1\",\"2010-9-1\",\"2023-2-1\",\"2023-2-1\",\"2010-9-1\",\"2010-9-1\",\"1959-8-1\",\"2007-8-1\",\"2007-8-1\",\"1959-8-1\",\"1959-8-1\",\"2007-12-1\",\"2009-8-1\",\"2009-8-1\",\"2007-12-1\",\"2007-12-1\",\"2009-10-1\",\"2009-10-1\",\"2009-10-1\",\"2009-10-1\",\"2009-10-1\",\"2010-3-1\",\"2010-3-1\",\"2010-3-1\",\"2010-3-1\",\"2010-3-1\",\"2010-5-1\",\"2010-7-1\",\"2010-7-1\",\"2010-5-1\",\"2010-5-1\",\"2010-9-1\",\"2023-2-1\",\"2023-2-1\",\"2010-9-1\",\"2010-9-1\",\"1966-9-1\",\"2007-8-1\",\"2007-8-1\",\"1966-9-1\",\"1966-9-1\",\"2007-12-1\",\"2009-8-1\",\"2009-8-1\",\"2007-12-1\",\"2007-12-1\",\"2009-10-1\",\"2009-10-1\",\"2009-10-1\",\"2009-10-1\",\"2009-10-1\",\"2010-3-1\",\"2010-3-1\",\"2010-3-1\",\"2010-3-1\",\"2010-3-1\",\"2010-5-1\",\"2010-7-1\",\"2010-7-1\",\"2010-5-1\",\"2010-5-1\",\"2010-9-1\",\"2023-2-1\",\"2023-2-1\",\"2010-9-1\",\"2010-9-1\",\"1983-2-1\",\"2006-4-1\",\"2006-4-1\",\"1983-2-1\",\"1983-2-1\",\"2006-6-1\",\"2007-8-1\",\"2007-8-1\",\"2006-6-1\",\"2006-6-1\",\"2007-12-1\",\"2009-8-1\",\"2009-8-1\",\"2007-12-1\",\"2007-12-1\",\"2010-3-1\",\"2010-3-1\",\"2010-3-1\",\"2010-3-1\",\"2010-3-1\",\"2010-5-1\",\"2010-7-1\",\"2010-7-1\",\"2010-5-1\",\"2010-5-1\",\"2010-9-1\",\"2021-4-1\",\"2021-4-1\",\"2010-9-1\",\"2010-9-1\",\"2021-6-1\",\"2023-2-1\",\"2023-2-1\",\"2021-6-1\",\"2021-6-1\",\"1969-10-1\",\"1970-11-1\",\"1970-11-1\",\"1969-10-1\",\"1969-10-1\",\"1971-1-1\",\"2007-8-1\",\"2007-8-1\",\"1971-1-1\",\"1971-1-1\",\"2007-12-1\",\"2009-8-1\",\"2009-8-1\",\"2007-12-1\",\"2007-12-1\",\"2009-10-1\",\"2009-11-1\",\"2009-11-1\",\"2009-10-1\",\"2009-10-1\",\"2010-3-1\",\"2010-3-1\",\"2010-3-1\",\"2010-3-1\",\"2010-3-1\",\"2010-5-1\",\"2010-7-1\",\"2010-7-1\",\"2010-5-1\",\"2010-5-1\",\"2010-9-1\",\"2021-6-1\",\"2021-6-1\",\"2010-9-1\",\"2010-9-1\",\"2021-8-1\",\"2022-12-1\",\"2022-12-1\",\"2021-8-1\",\"2021-8-1\",\"1969-10-1\",\"1986-4-1\",\"1986-4-1\",\"1969-10-1\",\"1969-10-1\",\"1986-6-1\",\"1990-4-1\",\"1990-4-1\",\"1986-6-1\",\"1986-6-1\",\"1990-9-1\",\"1991-4-1\",\"1991-4-1\",\"1990-9-1\",\"1990-9-1\",\"1991-6-1\",\"1993-7-1\",\"1993-7-1\",\"1991-6-1\",\"1991-6-1\",\"1993-9-1\",\"1999-6-1\",\"1999-6-1\",\"1993-9-1\",\"1993-9-1\",\"1999-8-1\",\"2002-8-1\",\"2002-8-1\",\"1999-8-1\",\"1999-8-1\",\"2002-10-1\",\"2007-8-1\",\"2007-8-1\",\"2002-10-1\",\"2002-10-1\",\"2007-12-1\",\"2009-8-1\",\"2009-8-1\",\"2007-12-1\",\"2007-12-1\",\"2009-10-1\",\"2009-11-1\",\"2009-11-1\",\"2009-10-1\",\"2009-10-1\",\"2010-3-1\",\"2010-3-1\",\"2010-3-1\",\"2010-3-1\",\"2010-3-1\",\"2010-5-1\",\"2010-7-1\",\"2010-7-1\",\"2010-5-1\",\"2010-5-1\",\"2010-9-1\",\"2023-2-1\",\"2023-2-1\",\"2010-9-1\",\"2010-9-1\",\"1986-1-1\",\"1986-3-1\",\"1986-3-1\",\"1986-1-1\",\"1986-1-1\",\"1986-5-1\",\"1997-9-1\",\"1997-9-1\",\"1986-5-1\",\"1986-5-1\",\"1997-11-1\",\"1999-5-1\",\"1999-5-1\",\"1997-11-1\",\"1997-11-1\",\"1999-8-1\",\"1999-9-1\",\"1999-9-1\",\"1999-8-1\",\"1999-8-1\",\"1999-12-1\",\"2000-2-1\",\"2000-2-1\",\"1999-12-1\",\"1999-12-1\",\"2000-5-1\",\"2000-8-1\",\"2000-8-1\",\"2000-5-1\",\"2000-5-1\",\"2000-11-1\",\"2000-11-1\",\"2000-11-1\",\"2000-11-1\",\"2000-11-1\",\"2001-9-1\",\"2004-1-1\",\"2004-1-1\",\"2001-9-1\",\"2001-9-1\",\"2004-3-1\",\"2005-3-1\",\"2005-3-1\",\"2004-3-1\",\"2004-3-1\",\"2005-8-1\",\"2006-4-1\",\"2006-4-1\",\"2005-8-1\",\"2005-8-1\",\"2006-8-1\",\"2022-2-1\",\"2022-2-1\",\"2006-8-1\",\"2006-8-1\",\"2022-4-1\",\"2023-1-1\",\"2023-1-1\",\"2022-4-1\",\"2022-4-1\",\"2004-10-1\",\"2006-5-1\",\"2006-5-1\",\"2004-10-1\",\"2004-10-1\",\"2006-7-1\",\"2007-7-1\",\"2007-7-1\",\"2006-7-1\",\"2006-7-1\",\"2007-12-1\",\"2009-8-1\",\"2009-8-1\",\"2007-12-1\",\"2007-12-1\",\"2009-10-1\",\"2009-11-1\",\"2009-11-1\",\"2009-10-1\",\"2009-10-1\",\"2010-3-1\",\"2010-3-1\",\"2010-3-1\",\"2010-3-1\",\"2010-3-1\",\"2010-5-1\",\"2010-7-1\",\"2010-7-1\",\"2010-5-1\",\"2010-5-1\",\"2010-9-1\",\"2023-2-1\",\"2023-2-1\",\"2010-9-1\",\"2010-9-1\",\"1969-11-1\",\"1982-4-1\",\"1982-4-1\",\"1969-11-1\",\"1969-11-1\",\"1982-7-1\",\"1991-12-1\",\"1991-12-1\",\"1982-7-1\",\"1982-7-1\",\"1992-8-1\",\"1993-6-1\",\"1993-6-1\",\"1992-8-1\",\"1992-8-1\",\"1993-10-1\",\"2009-10-1\",\"2009-10-1\",\"1993-10-1\",\"1993-10-1\",\"2010-1-1\",\"2010-2-1\",\"2010-2-1\",\"2010-1-1\",\"2010-1-1\",\"2010-5-1\",\"2023-1-1\",\"2023-1-1\",\"2010-5-1\",\"2010-5-1\",\"1999-12-1\",\"2007-8-1\",\"2007-8-1\",\"1999-12-1\",\"1999-12-1\",\"2007-12-1\",\"2009-8-1\",\"2009-8-1\",\"2007-12-1\",\"2007-12-1\",\"2009-10-1\",\"2009-11-1\",\"2009-11-1\",\"2009-10-1\",\"2009-10-1\",\"2010-3-1\",\"2010-3-1\",\"2010-3-1\",\"2010-3-1\",\"2010-3-1\",\"2010-5-1\",\"2010-7-1\",\"2010-7-1\",\"2010-5-1\",\"2010-5-1\",\"2010-9-1\",\"2023-2-1\",\"2023-2-1\",\"2010-9-1\",\"2010-9-1\",\"2000-5-1\",\"2007-8-1\",\"2007-8-1\",\"2000-5-1\",\"2000-5-1\",\"2007-12-1\",\"2009-8-1\",\"2009-8-1\",\"2007-12-1\",\"2007-12-1\",\"2009-10-1\",\"2009-11-1\",\"2009-11-1\",\"2009-10-1\",\"2009-10-1\",\"2010-3-1\",\"2010-3-1\",\"2010-3-1\",\"2010-3-1\",\"2010-3-1\",\"2010-5-1\",\"2010-7-1\",\"2010-7-1\",\"2010-5-1\",\"2010-5-1\",\"2010-9-1\",\"2021-2-1\",\"2021-2-1\",\"2010-9-1\",\"2010-9-1\",\"2021-4-1\",\"2022-12-1\",\"2022-12-1\",\"2021-4-1\",\"2021-4-1\",\"2023-2-1\",\"2023-2-1\",\"2023-2-1\",\"2023-2-1\",\"2023-2-1\",\"2004-8-1\",\"2007-8-1\",\"2007-8-1\",\"2004-8-1\",\"2004-8-1\",\"2007-12-1\",\"2009-8-1\",\"2009-8-1\",\"2007-12-1\",\"2007-12-1\",\"2009-10-1\",\"2009-11-1\",\"2009-11-1\",\"2009-10-1\",\"2009-10-1\",\"2010-3-1\",\"2010-3-1\",\"2010-3-1\",\"2010-3-1\",\"2010-3-1\",\"2010-5-1\",\"2010-7-1\",\"2010-7-1\",\"2010-5-1\",\"2010-5-1\",\"2010-9-1\",\"2022-12-1\",\"2022-12-1\",\"2010-9-1\",\"2010-9-1\",\"2009-9-1\",\"2009-12-1\",\"2009-12-1\",\"2009-9-1\",\"2009-9-1\",\"2010-5-1\",\"2010-7-1\",\"2010-7-1\",\"2010-5-1\",\"2010-5-1\",\"2010-9-1\",\"2023-1-1\",\"2023-1-1\",\"2010-9-1\",\"2010-9-1\",\"1934-1-1\",\"1947-3-1\",\"1947-3-1\",\"1934-1-1\",\"1934-1-1\",\"1947-5-1\",\"1948-1-1\",\"1948-1-1\",\"1947-5-1\",\"1947-5-1\",\"1948-3-1\",\"1949-1-1\",\"1949-1-1\",\"1948-3-1\",\"1948-3-1\",\"1949-3-1\",\"1962-9-1\",\"1962-9-1\",\"1949-3-1\",\"1949-3-1\",\"1969-10-1\",\"1979-6-1\",\"1979-6-1\",\"1969-10-1\",\"1969-10-1\",\"1979-9-1\",\"1983-9-1\",\"1983-9-1\",\"1979-9-1\",\"1979-9-1\",\"1983-11-1\",\"1990-5-1\",\"1990-5-1\",\"1983-11-1\",\"1983-11-1\",\"1990-7-1\",\"1992-9-1\",\"1992-9-1\",\"1990-7-1\",\"1990-7-1\",\"1992-11-1\",\"1994-4-1\",\"1994-4-1\",\"1992-11-1\",\"1992-11-1\",\"1994-6-1\",\"1994-10-1\",\"1994-10-1\",\"1994-6-1\",\"1994-6-1\",\"1994-12-1\",\"1994-12-1\",\"1994-12-1\",\"1994-12-1\",\"1994-12-1\",\"1995-2-1\",\"2007-9-1\",\"2007-9-1\",\"1995-2-1\",\"1995-2-1\",\"2007-11-1\",\"2023-2-1\",\"2023-2-1\",\"2007-11-1\",\"2007-11-1\",\"1976-7-1\",\"1978-9-1\",\"1978-9-1\",\"1976-7-1\",\"1976-7-1\",\"1978-11-1\",\"1992-7-1\",\"1992-7-1\",\"1978-11-1\",\"1978-11-1\",\"1992-9-1\",\"2007-8-1\",\"2007-8-1\",\"1992-9-1\",\"1992-9-1\",\"2007-12-1\",\"2009-8-1\",\"2009-8-1\",\"2007-12-1\",\"2007-12-1\",\"2009-10-1\",\"2009-10-1\",\"2009-10-1\",\"2009-10-1\",\"2009-10-1\",\"2010-3-1\",\"2010-3-1\",\"2010-3-1\",\"2010-3-1\",\"2010-3-1\",\"2010-5-1\",\"2010-7-1\",\"2010-7-1\",\"2010-5-1\",\"2010-5-1\",\"2010-9-1\",\"2021-4-1\",\"2021-4-1\",\"2010-9-1\",\"2010-9-1\",\"2021-6-1\",\"2023-1-1\",\"2023-1-1\",\"2021-6-1\",\"2021-6-1\",\"1999-12-1\",\"2004-11-1\",\"2004-11-1\",\"1999-12-1\",\"1999-12-1\",\"2005-1-1\",\"2007-8-1\",\"2007-8-1\",\"2005-1-1\",\"2005-1-1\",\"2007-12-1\",\"2009-8-1\",\"2009-8-1\",\"2007-12-1\",\"2007-12-1\",\"2009-10-1\",\"2009-11-1\",\"2009-11-1\",\"2009-10-1\",\"2009-10-1\",\"2010-3-1\",\"2010-3-1\",\"2010-3-1\",\"2010-3-1\",\"2010-3-1\",\"2010-5-1\",\"2010-7-1\",\"2010-7-1\",\"2010-5-1\",\"2010-5-1\",\"2010-9-1\",\"2023-2-1\",\"2023-2-1\",\"2010-9-1\",\"2010-9-1\",\"2004-8-1\",\"2007-8-1\",\"2007-8-1\",\"2004-8-1\",\"2004-8-1\",\"2007-12-1\",\"2009-8-1\",\"2009-8-1\",\"2007-12-1\",\"2007-12-1\",\"2009-10-1\",\"2009-11-1\",\"2009-11-1\",\"2009-10-1\",\"2009-10-1\",\"2010-3-1\",\"2010-3-1\",\"2010-3-1\",\"2010-3-1\",\"2010-3-1\",\"2010-5-1\",\"2010-7-1\",\"2010-7-1\",\"2010-5-1\",\"2010-5-1\",\"2010-9-1\",\"2023-2-1\",\"2023-2-1\",\"2010-9-1\",\"2010-9-1\",\"2004-8-1\",\"2007-7-1\",\"2007-7-1\",\"2004-8-1\",\"2004-8-1\",\"2007-12-1\",\"2009-8-1\",\"2009-8-1\",\"2007-12-1\",\"2007-12-1\",\"2009-10-1\",\"2009-10-1\",\"2009-10-1\",\"2009-10-1\",\"2009-10-1\",\"2010-5-1\",\"2010-7-1\",\"2010-7-1\",\"2010-5-1\",\"2010-5-1\",\"2010-9-1\",\"2023-2-1\",\"2023-2-1\",\"2010-9-1\",\"2010-9-1\",\"1976-5-1\",\"1990-4-1\",\"1990-4-1\",\"1976-5-1\",\"1976-5-1\",\"1990-6-1\",\"2007-6-1\",\"2007-6-1\",\"1990-6-1\",\"1990-6-1\",\"2008-1-1\",\"2009-7-1\",\"2009-7-1\",\"2008-1-1\",\"2008-1-1\",\"2009-10-1\",\"2009-11-1\",\"2009-11-1\",\"2009-10-1\",\"2009-10-1\",\"2010-3-1\",\"2010-7-1\",\"2010-7-1\",\"2010-3-1\",\"2010-3-1\",\"2010-9-1\",\"2023-2-1\",\"2023-2-1\",\"2010-9-1\",\"2010-9-1\",\"1983-2-1\",\"1996-3-1\",\"1996-3-1\",\"1983-2-1\",\"1983-2-1\",\"1996-5-1\",\"2004-1-1\",\"2004-1-1\",\"1996-5-1\",\"1996-5-1\",\"2004-3-1\",\"2004-5-1\",\"2004-5-1\",\"2004-3-1\",\"2004-3-1\",\"2004-7-1\",\"2005-7-1\",\"2005-7-1\",\"2004-7-1\",\"2004-7-1\",\"2007-12-1\",\"2009-8-1\",\"2009-8-1\",\"2007-12-1\",\"2007-12-1\",\"2009-10-1\",\"2009-11-1\",\"2009-11-1\",\"2009-10-1\",\"2009-10-1\",\"2010-3-1\",\"2010-3-1\",\"2010-3-1\",\"2010-3-1\",\"2010-3-1\",\"2010-5-1\",\"2010-7-1\",\"2010-7-1\",\"2010-5-1\",\"2010-5-1\",\"2010-9-1\",\"2023-1-1\",\"2023-1-1\",\"2010-9-1\",\"2010-9-1\",\"1976-9-1\",\"1986-2-1\",\"1986-2-1\",\"1976-9-1\",\"1976-9-1\",\"1986-6-1\",\"2007-8-1\",\"2007-8-1\",\"1986-6-1\",\"1986-6-1\",\"2007-12-1\",\"2009-8-1\",\"2009-8-1\",\"2007-12-1\",\"2007-12-1\",\"2009-10-1\",\"2009-11-1\",\"2009-11-1\",\"2009-10-1\",\"2009-10-1\",\"2010-3-1\",\"2010-3-1\",\"2010-3-1\",\"2010-3-1\",\"2010-3-1\",\"2010-5-1\",\"2010-7-1\",\"2010-7-1\",\"2010-5-1\",\"2010-5-1\",\"2010-9-1\",\"2023-1-1\",\"2023-1-1\",\"2010-9-1\",\"2010-9-1\",\"2000-7-1\",\"2004-10-1\",\"2004-10-1\",\"2000-7-1\",\"2000-7-1\",\"2004-12-1\",\"2007-8-1\",\"2007-8-1\",\"2004-12-1\",\"2004-12-1\",\"2007-12-1\",\"2009-8-1\",\"2009-8-1\",\"2007-12-1\",\"2007-12-1\",\"2009-10-1\",\"2009-10-1\",\"2009-10-1\",\"2009-10-1\",\"2009-10-1\",\"2010-3-1\",\"2010-3-1\",\"2010-3-1\",\"2010-3-1\",\"2010-3-1\",\"2010-5-1\",\"2010-7-1\",\"2010-7-1\",\"2010-5-1\",\"2010-5-1\",\"2010-9-1\",\"2023-2-1\",\"2023-2-1\",\"2010-9-1\",\"2010-9-1\",\"1976-9-1\",\"1985-10-1\",\"1985-10-1\",\"1976-9-1\",\"1976-9-1\",\"1985-12-1\",\"1997-1-1\",\"1997-1-1\",\"1985-12-1\",\"1985-12-1\",\"1997-4-1\",\"1997-4-1\",\"1997-4-1\",\"1997-4-1\",\"1997-4-1\",\"1997-10-1\",\"1997-10-1\",\"1997-10-1\",\"1997-10-1\",\"1997-10-1\",\"1998-1-1\",\"2003-5-1\",\"2003-5-1\",\"1998-1-1\",\"1998-1-1\",\"2003-7-1\",\"2003-12-1\",\"2003-12-1\",\"2003-7-1\",\"2003-7-1\",\"2004-2-1\",\"2004-2-1\",\"2004-2-1\",\"2004-2-1\",\"2004-2-1\",\"2004-4-1\",\"2004-6-1\",\"2004-6-1\",\"2004-4-1\",\"2004-4-1\",\"2004-8-1\",\"2004-10-1\",\"2004-10-1\",\"2004-8-1\",\"2004-8-1\",\"2005-1-1\",\"2005-9-1\",\"2005-9-1\",\"2005-1-1\",\"2005-1-1\",\"2006-1-1\",\"2006-3-1\",\"2006-3-1\",\"2006-1-1\",\"2006-1-1\",\"2006-5-1\",\"2006-5-1\",\"2006-5-1\",\"2006-5-1\",\"2006-5-1\",\"2006-9-1\",\"2007-3-1\",\"2007-3-1\",\"2006-9-1\",\"2006-9-1\",\"2007-5-1\",\"2007-5-1\",\"2007-5-1\",\"2007-5-1\",\"2007-5-1\",\"2007-11-1\",\"2009-10-1\",\"2009-10-1\",\"2007-11-1\",\"2007-11-1\",\"2010-3-1\",\"2010-3-1\",\"2010-3-1\",\"2010-3-1\",\"2010-3-1\",\"2010-5-1\",\"2010-7-1\",\"2010-7-1\",\"2010-5-1\",\"2010-5-1\",\"2010-9-1\",\"2023-1-1\",\"2023-1-1\",\"2010-9-1\"],\"y\":[26.8,26.8,27.2,27.2,null,26.8,26.8,27.2,27.2,null,26.8,26.8,27.2,27.2,null,26.8,26.8,27.2,27.2,null,26.8,26.8,27.2,27.2,null,26.8,26.8,27.2,27.2,null,25.8,25.8,26.2,26.2,null,25.8,25.8,26.2,26.2,null,25.8,25.8,26.2,26.2,null,25.8,25.8,26.2,26.2,null,25.8,25.8,26.2,26.2,null,25.8,25.8,26.2,26.2,null,25.8,25.8,26.2,26.2,null,24.8,24.8,25.2,25.2,null,24.8,24.8,25.2,25.2,null,24.8,24.8,25.2,25.2,null,24.8,24.8,25.2,25.2,null,24.8,24.8,25.2,25.2,null,23.8,23.8,24.2,24.2,null,23.8,23.8,24.2,24.2,null,23.8,23.8,24.2,24.2,null,23.8,23.8,24.2,24.2,null,23.8,23.8,24.2,24.2,null,23.8,23.8,24.2,24.2,null,23.8,23.8,24.2,24.2,null,23.8,23.8,24.2,24.2,null,22.8,22.8,23.2,23.2,null,22.8,22.8,23.2,23.2,null,22.8,22.8,23.2,23.2,null,22.8,22.8,23.2,23.2,null,22.8,22.8,23.2,23.2,null,22.8,22.8,23.2,23.2,null,22.8,22.8,23.2,23.2,null,21.8,21.8,22.2,22.2,null,21.8,21.8,22.2,22.2,null,21.8,21.8,22.2,22.2,null,21.8,21.8,22.2,22.2,null,21.8,21.8,22.2,22.2,null,21.8,21.8,22.2,22.2,null,21.8,21.8,22.2,22.2,null,20.8,20.8,21.2,21.2,null,20.8,20.8,21.2,21.2,null,20.8,20.8,21.2,21.2,null,20.8,20.8,21.2,21.2,null,20.8,20.8,21.2,21.2,null,20.8,20.8,21.2,21.2,null,19.8,19.8,20.2,20.2,null,19.8,19.8,20.2,20.2,null,19.8,19.8,20.2,20.2,null,19.8,19.8,20.2,20.2,null,19.8,19.8,20.2,20.2,null,19.8,19.8,20.2,20.2,null,18.8,18.8,19.2,19.2,null,18.8,18.8,19.2,19.2,null,18.8,18.8,19.2,19.2,null,18.8,18.8,19.2,19.2,null,18.8,18.8,19.2,19.2,null,18.8,18.8,19.2,19.2,null,18.8,18.8,19.2,19.2,null,17.8,17.8,18.2,18.2,null,17.8,17.8,18.2,18.2,null,17.8,17.8,18.2,18.2,null,17.8,17.8,18.2,18.2,null,17.8,17.8,18.2,18.2,null,17.8,17.8,18.2,18.2,null,17.8,17.8,18.2,18.2,null,17.8,17.8,18.2,18.2,null,16.8,16.8,17.2,17.2,null,16.8,16.8,17.2,17.2,null,16.8,16.8,17.2,17.2,null,16.8,16.8,17.2,17.2,null,16.8,16.8,17.2,17.2,null,16.8,16.8,17.2,17.2,null,16.8,16.8,17.2,17.2,null,16.8,16.8,17.2,17.2,null,16.8,16.8,17.2,17.2,null,16.8,16.8,17.2,17.2,null,16.8,16.8,17.2,17.2,null,16.8,16.8,17.2,17.2,null,15.8,15.8,16.2,16.2,null,15.8,15.8,16.2,16.2,null,15.8,15.8,16.2,16.2,null,15.8,15.8,16.2,16.2,null,15.8,15.8,16.2,16.2,null,15.8,15.8,16.2,16.2,null,15.8,15.8,16.2,16.2,null,15.8,15.8,16.2,16.2,null,15.8,15.8,16.2,16.2,null,15.8,15.8,16.2,16.2,null,15.8,15.8,16.2,16.2,null,15.8,15.8,16.2,16.2,null,14.8,14.8,15.2,15.2,null,14.8,14.8,15.2,15.2,null,14.8,14.8,15.2,15.2,null,14.8,14.8,15.2,15.2,null,14.8,14.8,15.2,15.2,null,14.8,14.8,15.2,15.2,null,14.8,14.8,15.2,15.2,null,13.8,13.8,14.2,14.2,null,13.8,13.8,14.2,14.2,null,13.8,13.8,14.2,14.2,null,13.8,13.8,14.2,14.2,null,13.8,13.8,14.2,14.2,null,13.8,13.8,14.2,14.2,null,12.8,12.8,13.2,13.2,null,12.8,12.8,13.2,13.2,null,12.8,12.8,13.2,13.2,null,12.8,12.8,13.2,13.2,null,12.8,12.8,13.2,13.2,null,12.8,12.8,13.2,13.2,null,11.8,11.8,12.2,12.2,null,11.8,11.8,12.2,12.2,null,11.8,11.8,12.2,12.2,null,11.8,11.8,12.2,12.2,null,11.8,11.8,12.2,12.2,null,11.8,11.8,12.2,12.2,null,11.8,11.8,12.2,12.2,null,11.8,11.8,12.2,12.2,null,10.8,10.8,11.2,11.2,null,10.8,10.8,11.2,11.2,null,10.8,10.8,11.2,11.2,null,10.8,10.8,11.2,11.2,null,10.8,10.8,11.2,11.2,null,10.8,10.8,11.2,11.2,null,9.8,9.8,10.2,10.2,null,9.8,9.8,10.2,10.2,null,9.8,9.8,10.2,10.2,null,8.8,8.8,9.2,9.2,null,8.8,8.8,9.2,9.2,null,8.8,8.8,9.2,9.2,null,8.8,8.8,9.2,9.2,null,8.8,8.8,9.2,9.2,null,8.8,8.8,9.2,9.2,null,8.8,8.8,9.2,9.2,null,8.8,8.8,9.2,9.2,null,8.8,8.8,9.2,9.2,null,8.8,8.8,9.2,9.2,null,8.8,8.8,9.2,9.2,null,8.8,8.8,9.2,9.2,null,8.8,8.8,9.2,9.2,null,7.8,7.8,8.2,8.2,null,7.8,7.8,8.2,8.2,null,7.8,7.8,8.2,8.2,null,7.8,7.8,8.2,8.2,null,7.8,7.8,8.2,8.2,null,7.8,7.8,8.2,8.2,null,7.8,7.8,8.2,8.2,null,7.8,7.8,8.2,8.2,null,7.8,7.8,8.2,8.2,null,6.8,6.8,7.2,7.2,null,6.8,6.8,7.2,7.2,null,6.8,6.8,7.2,7.2,null,6.8,6.8,7.2,7.2,null,6.8,6.8,7.2,7.2,null,6.8,6.8,7.2,7.2,null,6.8,6.8,7.2,7.2,null,5.8,5.8,6.2,6.2,null,5.8,5.8,6.2,6.2,null,5.8,5.8,6.2,6.2,null,5.8,5.8,6.2,6.2,null,5.8,5.8,6.2,6.2,null,5.8,5.8,6.2,6.2,null,4.8,4.8,5.2,5.2,null,4.8,4.8,5.2,5.2,null,4.8,4.8,5.2,5.2,null,4.8,4.8,5.2,5.2,null,4.8,4.8,5.2,5.2,null,3.8,3.8,4.2,4.2,null,3.8,3.8,4.2,4.2,null,3.8,3.8,4.2,4.2,null,3.8,3.8,4.2,4.2,null,3.8,3.8,4.2,4.2,null,3.8,3.8,4.2,4.2,null,2.8,2.8,3.2,3.2,null,2.8,2.8,3.2,3.2,null,2.8,2.8,3.2,3.2,null,2.8,2.8,3.2,3.2,null,2.8,2.8,3.2,3.2,null,2.8,2.8,3.2,3.2,null,2.8,2.8,3.2,3.2,null,2.8,2.8,3.2,3.2,null,2.8,2.8,3.2,3.2,null,1.8,1.8,2.2,2.2,null,1.8,1.8,2.2,2.2,null,1.8,1.8,2.2,2.2,null,1.8,1.8,2.2,2.2,null,1.8,1.8,2.2,2.2,null,1.8,1.8,2.2,2.2,null,1.8,1.8,2.2,2.2,null,0.8,0.8,1.2,1.2,null,0.8,0.8,1.2,1.2,null,0.8,0.8,1.2,1.2,null,0.8,0.8,1.2,1.2,null,0.8,0.8,1.2,1.2,null,0.8,0.8,1.2,1.2,null,0.8,0.8,1.2,1.2,null,-0.2,-0.2,0.2,0.2,null,-0.2,-0.2,0.2,0.2,null,-0.2,-0.2,0.2,0.2,null,-0.2,-0.2,0.2,0.2,null,-0.2,-0.2,0.2,0.2,null,-0.2,-0.2,0.2,0.2,null,-0.2,-0.2,0.2,0.2,null,-0.2,-0.2,0.2,0.2,null,-0.2,-0.2,0.2,0.2,null,-0.2,-0.2,0.2,0.2,null,-0.2,-0.2,0.2,0.2,null,-0.2,-0.2,0.2,0.2,null,-0.2,-0.2,0.2,0.2,null,-0.2,-0.2,0.2,0.2,null,-0.2,-0.2,0.2,0.2,null,-0.2,-0.2,0.2,0.2,null,-0.2,-0.2,0.2,0.2,null,-0.2,-0.2,0.2,0.2],\"type\":\"scatter\"},{\"legendgroup\":\"rgb(0, 191, 255)\",\"marker\":{\"color\":\"rgb(0, 191, 255)\",\"opacity\":0,\"size\":1},\"mode\":\"markers\",\"name\":\"\",\"showlegend\":false,\"text\":[null,null,null,null,null,null,null,null,null,null,null,null,null,null,null,null,null,null,null,null,null,null,null,null,null,null,null,null,null,null,null,null,null,null,null,null,null,null,null,null,null,null,null,null,null,null,null,null,null,null,null,null,null,null,null,null,null,null,null,null,null,null,null,null,null,null,null,null,null,null,null,null,null,null,null,null,null,null,null,null,null,null,null,null,null,null,null,null,null,null,null,null,null,null,null,null,null,null,null,null,null,null,null,null,null,null,null,null,null,null,null,null,null,null,null,null,null,null,null,null,null,null,null,null,null,null,null,null,null,null,null,null,null,null,null,null,null,null,null,null,null,null,null,null,null,null,null,null,null,null,null,null,null,null,null,null,null,null,null,null,null,null,null,null,null,null,null,null,null,null,null,null,null,null,null,null,null,null,null,null,null,null,null,null,null,null,null,null,null,null,null,null,null,null,null,null,null,null,null,null,null,null,null,null,null,null,null,null,null,null,null,null,null,null,null,null,null,null,null,null,null,null,null,null,null,null,null,null,null,null,null,null,null,null,null,null,null,null,null,null,null,null,null,null,null,null,null,null,null,null,null,null,null,null,null,null,null,null,null,null,null,null,null,null,null,null,null,null,null,null,null,null,null,null,null,null,null,null,null,null,null,null,null,null,null,null,null,null,null,null,null,null,null,null,null,null,null,null,null,null,null,null,null,null,null,null,null,null,null,null,null,null,null,null,null,null,null,null,null,null,null,null,null,null,null,null,null,null,null,null,null,null,null,null,null,null,null,null,null,null,null,null,null,null,null,null,null,null,null,null,null,null,null,null,null,null,null,null,null,null,null,null,null,null,null,null,null,null,null,null,null,null,null,null,null,null,null,null,null,null,null,null,null,null,null,null,null,null,null,null,null,null,null,null,null,null,null,null,null,null,null,null,null,null,null,null,null,null,null,null,null,null,null,null,null,null,null,null,null,null,null,null,null,null,null,null,null,null],\"x\":[\"2003-1-1\",\"2006-4-1\",\"2006-9-1\",\"2007-8-1\",\"2007-12-1\",\"2009-8-1\",\"2009-10-1\",\"2009-11-1\",\"2010-1-1\",\"2022-11-1\",\"2023-1-1\",\"2023-2-1\",\"1976-10-1\",\"1993-12-1\",\"1994-2-1\",\"1996-2-1\",\"1996-4-1\",\"2006-6-1\",\"2006-9-1\",\"2007-6-1\",\"2007-8-1\",\"2007-8-1\",\"2007-11-1\",\"2009-11-1\",\"2010-1-1\",\"2023-2-1\",\"1978-9-1\",\"2006-6-1\",\"2006-9-1\",\"2007-8-1\",\"2007-12-1\",\"2009-8-1\",\"2009-11-1\",\"2009-11-1\",\"2010-1-1\",\"2022-12-1\",\"1943-5-1\",\"1947-2-1\",\"1947-4-1\",\"1957-3-1\",\"1957-6-1\",\"1957-8-1\",\"1959-4-1\",\"2009-8-1\",\"2009-10-1\",\"2009-10-1\",\"2010-3-1\",\"2010-3-1\",\"2010-5-1\",\"2010-7-1\",\"2010-9-1\",\"2023-2-1\",\"1976-7-1\",\"1992-2-1\",\"1992-10-1\",\"2006-5-1\",\"2006-8-1\",\"2007-7-1\",\"2007-11-1\",\"2009-8-1\",\"2009-10-1\",\"2009-10-1\",\"2010-5-1\",\"2010-7-1\",\"2010-9-1\",\"2023-2-1\",\"1943-5-1\",\"1995-3-1\",\"1995-5-1\",\"2007-8-1\",\"2007-12-1\",\"2009-8-1\",\"2009-10-1\",\"2009-11-1\",\"2010-3-1\",\"2010-3-1\",\"2010-5-1\",\"2010-7-1\",\"2010-9-1\",\"2023-2-1\",\"1959-8-1\",\"2007-8-1\",\"2007-12-1\",\"2009-8-1\",\"2009-10-1\",\"2009-10-1\",\"2010-3-1\",\"2010-3-1\",\"2010-5-1\",\"2010-7-1\",\"2010-9-1\",\"2023-2-1\",\"1966-9-1\",\"2007-8-1\",\"2007-12-1\",\"2009-8-1\",\"2009-10-1\",\"2009-10-1\",\"2010-3-1\",\"2010-3-1\",\"2010-5-1\",\"2010-7-1\",\"2010-9-1\",\"2023-2-1\",\"1983-2-1\",\"2006-4-1\",\"2006-6-1\",\"2007-8-1\",\"2007-12-1\",\"2009-8-1\",\"2010-3-1\",\"2010-3-1\",\"2010-5-1\",\"2010-7-1\",\"2010-9-1\",\"2021-4-1\",\"2021-6-1\",\"2023-2-1\",\"1969-10-1\",\"1970-11-1\",\"1971-1-1\",\"2007-8-1\",\"2007-12-1\",\"2009-8-1\",\"2009-10-1\",\"2009-11-1\",\"2010-3-1\",\"2010-3-1\",\"2010-5-1\",\"2010-7-1\",\"2010-9-1\",\"2021-6-1\",\"2021-8-1\",\"2022-12-1\",\"1969-10-1\",\"1986-4-1\",\"1986-6-1\",\"1990-4-1\",\"1990-9-1\",\"1991-4-1\",\"1991-6-1\",\"1993-7-1\",\"1993-9-1\",\"1999-6-1\",\"1999-8-1\",\"2002-8-1\",\"2002-10-1\",\"2007-8-1\",\"2007-12-1\",\"2009-8-1\",\"2009-10-1\",\"2009-11-1\",\"2010-3-1\",\"2010-3-1\",\"2010-5-1\",\"2010-7-1\",\"2010-9-1\",\"2023-2-1\",\"1986-1-1\",\"1986-3-1\",\"1986-5-1\",\"1997-9-1\",\"1997-11-1\",\"1999-5-1\",\"1999-8-1\",\"1999-9-1\",\"1999-12-1\",\"2000-2-1\",\"2000-5-1\",\"2000-8-1\",\"2000-11-1\",\"2000-11-1\",\"2001-9-1\",\"2004-1-1\",\"2004-3-1\",\"2005-3-1\",\"2005-8-1\",\"2006-4-1\",\"2006-8-1\",\"2022-2-1\",\"2022-4-1\",\"2023-1-1\",\"2004-10-1\",\"2006-5-1\",\"2006-7-1\",\"2007-7-1\",\"2007-12-1\",\"2009-8-1\",\"2009-10-1\",\"2009-11-1\",\"2010-3-1\",\"2010-3-1\",\"2010-5-1\",\"2010-7-1\",\"2010-9-1\",\"2023-2-1\",\"1969-11-1\",\"1982-4-1\",\"1982-7-1\",\"1991-12-1\",\"1992-8-1\",\"1993-6-1\",\"1993-10-1\",\"2009-10-1\",\"2010-1-1\",\"2010-2-1\",\"2010-5-1\",\"2023-1-1\",\"1999-12-1\",\"2007-8-1\",\"2007-12-1\",\"2009-8-1\",\"2009-10-1\",\"2009-11-1\",\"2010-3-1\",\"2010-3-1\",\"2010-5-1\",\"2010-7-1\",\"2010-9-1\",\"2023-2-1\",\"2000-5-1\",\"2007-8-1\",\"2007-12-1\",\"2009-8-1\",\"2009-10-1\",\"2009-11-1\",\"2010-3-1\",\"2010-3-1\",\"2010-5-1\",\"2010-7-1\",\"2010-9-1\",\"2021-2-1\",\"2021-4-1\",\"2022-12-1\",\"2023-2-1\",\"2023-2-1\",\"2004-8-1\",\"2007-8-1\",\"2007-12-1\",\"2009-8-1\",\"2009-10-1\",\"2009-11-1\",\"2010-3-1\",\"2010-3-1\",\"2010-5-1\",\"2010-7-1\",\"2010-9-1\",\"2022-12-1\",\"2009-9-1\",\"2009-12-1\",\"2010-5-1\",\"2010-7-1\",\"2010-9-1\",\"2023-1-1\",\"1934-1-1\",\"1947-3-1\",\"1947-5-1\",\"1948-1-1\",\"1948-3-1\",\"1949-1-1\",\"1949-3-1\",\"1962-9-1\",\"1969-10-1\",\"1979-6-1\",\"1979-9-1\",\"1983-9-1\",\"1983-11-1\",\"1990-5-1\",\"1990-7-1\",\"1992-9-1\",\"1992-11-1\",\"1994-4-1\",\"1994-6-1\",\"1994-10-1\",\"1994-12-1\",\"1994-12-1\",\"1995-2-1\",\"2007-9-1\",\"2007-11-1\",\"2023-2-1\",\"1976-7-1\",\"1978-9-1\",\"1978-11-1\",\"1992-7-1\",\"1992-9-1\",\"2007-8-1\",\"2007-12-1\",\"2009-8-1\",\"2009-10-1\",\"2009-10-1\",\"2010-3-1\",\"2010-3-1\",\"2010-5-1\",\"2010-7-1\",\"2010-9-1\",\"2021-4-1\",\"2021-6-1\",\"2023-1-1\",\"1999-12-1\",\"2004-11-1\",\"2005-1-1\",\"2007-8-1\",\"2007-12-1\",\"2009-8-1\",\"2009-10-1\",\"2009-11-1\",\"2010-3-1\",\"2010-3-1\",\"2010-5-1\",\"2010-7-1\",\"2010-9-1\",\"2023-2-1\",\"2004-8-1\",\"2007-8-1\",\"2007-12-1\",\"2009-8-1\",\"2009-10-1\",\"2009-11-1\",\"2010-3-1\",\"2010-3-1\",\"2010-5-1\",\"2010-7-1\",\"2010-9-1\",\"2023-2-1\",\"2004-8-1\",\"2007-7-1\",\"2007-12-1\",\"2009-8-1\",\"2009-10-1\",\"2009-10-1\",\"2010-5-1\",\"2010-7-1\",\"2010-9-1\",\"2023-2-1\",\"1976-5-1\",\"1990-4-1\",\"1990-6-1\",\"2007-6-1\",\"2008-1-1\",\"2009-7-1\",\"2009-10-1\",\"2009-11-1\",\"2010-3-1\",\"2010-7-1\",\"2010-9-1\",\"2023-2-1\",\"1983-2-1\",\"1996-3-1\",\"1996-5-1\",\"2004-1-1\",\"2004-3-1\",\"2004-5-1\",\"2004-7-1\",\"2005-7-1\",\"2007-12-1\",\"2009-8-1\",\"2009-10-1\",\"2009-11-1\",\"2010-3-1\",\"2010-3-1\",\"2010-5-1\",\"2010-7-1\",\"2010-9-1\",\"2023-1-1\",\"1976-9-1\",\"1986-2-1\",\"1986-6-1\",\"2007-8-1\",\"2007-12-1\",\"2009-8-1\",\"2009-10-1\",\"2009-11-1\",\"2010-3-1\",\"2010-3-1\",\"2010-5-1\",\"2010-7-1\",\"2010-9-1\",\"2023-1-1\",\"2000-7-1\",\"2004-10-1\",\"2004-12-1\",\"2007-8-1\",\"2007-12-1\",\"2009-8-1\",\"2009-10-1\",\"2009-10-1\",\"2010-3-1\",\"2010-3-1\",\"2010-5-1\",\"2010-7-1\",\"2010-9-1\",\"2023-2-1\",\"1976-9-1\",\"1985-10-1\",\"1985-12-1\",\"1997-1-1\",\"1997-4-1\",\"1997-4-1\",\"1997-10-1\",\"1997-10-1\",\"1998-1-1\",\"2003-5-1\",\"2003-7-1\",\"2003-12-1\",\"2004-2-1\",\"2004-2-1\",\"2004-4-1\",\"2004-6-1\",\"2004-8-1\",\"2004-10-1\",\"2005-1-1\",\"2005-9-1\",\"2006-1-1\",\"2006-3-1\",\"2006-5-1\",\"2006-5-1\",\"2006-9-1\",\"2007-3-1\",\"2007-5-1\",\"2007-5-1\",\"2007-11-1\",\"2009-10-1\",\"2010-3-1\",\"2010-3-1\",\"2010-5-1\",\"2010-7-1\",\"2010-9-1\",\"2023-1-1\"],\"y\":[27,27,27,27,27,27,27,27,27,27,27,27,26,26,26,26,26,26,26,26,26,26,26,26,26,26,25,25,25,25,25,25,25,25,25,25,24,24,24,24,24,24,24,24,24,24,24,24,24,24,24,24,23,23,23,23,23,23,23,23,23,23,23,23,23,23,22,22,22,22,22,22,22,22,22,22,22,22,22,22,21,21,21,21,21,21,21,21,21,21,21,21,20,20,20,20,20,20,20,20,20,20,20,20,19,19,19,19,19,19,19,19,19,19,19,19,19,19,18,18,18,18,18,18,18,18,18,18,18,18,18,18,18,18,17,17,17,17,17,17,17,17,17,17,17,17,17,17,17,17,17,17,17,17,17,17,17,17,16,16,16,16,16,16,16,16,16,16,16,16,16,16,16,16,16,16,16,16,16,16,16,16,15,15,15,15,15,15,15,15,15,15,15,15,15,15,14,14,14,14,14,14,14,14,14,14,14,14,13,13,13,13,13,13,13,13,13,13,13,13,12,12,12,12,12,12,12,12,12,12,12,12,12,12,12,12,11,11,11,11,11,11,11,11,11,11,11,11,10,10,10,10,10,10,9,9,9,9,9,9,9,9,9,9,9,9,9,9,9,9,9,9,9,9,9,9,9,9,9,9,8,8,8,8,8,8,8,8,8,8,8,8,8,8,8,8,8,8,7,7,7,7,7,7,7,7,7,7,7,7,7,7,6,6,6,6,6,6,6,6,6,6,6,6,5,5,5,5,5,5,5,5,5,5,4,4,4,4,4,4,4,4,4,4,4,4,3,3,3,3,3,3,3,3,3,3,3,3,3,3,3,3,3,3,2,2,2,2,2,2,2,2,2,2,2,2,2,2,1,1,1,1,1,1,1,1,1,1,1,1,1,1,0,0,0,0,0,0,0,0,0,0,0,0,0,0,0,0,0,0,0,0,0,0,0,0,0,0,0,0,0,0,0,0,0,0,0,0],\"type\":\"scatter\"}],                        {\"height\":500,\"hovermode\":\"closest\",\"showlegend\":true,\"title\":{\"text\":\"Gantt Chart\"},\"xaxis\":{\"rangeselector\":{\"buttons\":[{\"count\":7,\"label\":\"1w\",\"step\":\"day\",\"stepmode\":\"backward\"},{\"count\":1,\"label\":\"1m\",\"step\":\"month\",\"stepmode\":\"backward\"},{\"count\":6,\"label\":\"6m\",\"step\":\"month\",\"stepmode\":\"backward\"},{\"count\":1,\"label\":\"YTD\",\"step\":\"year\",\"stepmode\":\"todate\"},{\"count\":1,\"label\":\"1y\",\"step\":\"year\",\"stepmode\":\"backward\"},{\"step\":\"all\"}]},\"showgrid\":true,\"type\":\"date\",\"zeroline\":false,\"tickvals\":[\"1934-01-01T00:00:00\",\"1936-01-01T00:00:00\",\"1938-01-01T00:00:00\",\"1940-01-01T00:00:00\",\"1942-01-01T00:00:00\",\"1944-01-01T00:00:00\",\"1946-01-01T00:00:00\",\"1948-01-01T00:00:00\",\"1950-01-01T00:00:00\",\"1952-01-01T00:00:00\",\"1954-01-01T00:00:00\",\"1956-01-01T00:00:00\",\"1958-01-01T00:00:00\",\"1960-01-01T00:00:00\",\"1962-01-01T00:00:00\",\"1964-01-01T00:00:00\",\"1966-01-01T00:00:00\",\"1968-01-01T00:00:00\",\"1970-01-01T00:00:00\",\"1972-01-01T00:00:00\",\"1974-01-01T00:00:00\",\"1976-01-01T00:00:00\",\"1978-01-01T00:00:00\",\"1980-01-01T00:00:00\",\"1982-01-01T00:00:00\",\"1984-01-01T00:00:00\",\"1986-01-01T00:00:00\",\"1988-01-01T00:00:00\",\"1990-01-01T00:00:00\",\"1992-01-01T00:00:00\",\"1994-01-01T00:00:00\",\"1996-01-01T00:00:00\",\"1998-01-01T00:00:00\",\"2000-01-01T00:00:00\",\"2002-01-01T00:00:00\",\"2004-01-01T00:00:00\",\"2006-01-01T00:00:00\",\"2008-01-01T00:00:00\",\"2010-01-01T00:00:00\",\"2012-01-01T00:00:00\",\"2014-01-01T00:00:00\",\"2016-01-01T00:00:00\",\"2018-01-01T00:00:00\",\"2020-01-01T00:00:00\",\"2022-01-01T00:00:00\",\"2024-01-01T00:00:00\"],\"ticktext\":[1934,1936,1938,1940,1942,1944,1946,1948,1950,1952,1954,1956,1958,1960,1962,1964,1966,1968,1970,1972,1974,1976,1978,1980,1982,1984,1986,1988,1990,1992,1994,1996,1998,2000,2002,2004,2006,2008,2010,2012,2014,2016,2018,2020,2022,2024],\"title\":{\"text\":\"Year\"}},\"yaxis\":{\"autorange\":false,\"range\":[-1,29],\"showgrid\":true,\"ticktext\":[\"03155001\",\"03154008\",\"03154003\",\"03056007\",\"03055003\",\"03054021\",\"03054020\",\"03054019\",\"03054016\",\"03054002\",\"03053028\",\"03053024\",\"03053023\",\"03053004\",\"02956006\",\"02955017\",\"02955013\",\"02955007\",\"02955006\",\"02954031\",\"02954005\",\"02954004\",\"02954001\",\"02953030\",\"02953008\",\"02855004\",\"02854012\",\"02850019\"],\"tickvals\":[0,1,2,3,4,5,6,7,8,9,10,11,12,13,14,15,16,17,18,19,20,21,22,23,24,25,26,27],\"zeroline\":false,\"title\":{\"text\":\"Station Code\"}},\"template\":{\"data\":{\"histogram2dcontour\":[{\"type\":\"histogram2dcontour\",\"colorbar\":{\"outlinewidth\":0,\"ticks\":\"\"},\"colorscale\":[[0.0,\"#0d0887\"],[0.1111111111111111,\"#46039f\"],[0.2222222222222222,\"#7201a8\"],[0.3333333333333333,\"#9c179e\"],[0.4444444444444444,\"#bd3786\"],[0.5555555555555556,\"#d8576b\"],[0.6666666666666666,\"#ed7953\"],[0.7777777777777778,\"#fb9f3a\"],[0.8888888888888888,\"#fdca26\"],[1.0,\"#f0f921\"]]}],\"choropleth\":[{\"type\":\"choropleth\",\"colorbar\":{\"outlinewidth\":0,\"ticks\":\"\"}}],\"histogram2d\":[{\"type\":\"histogram2d\",\"colorbar\":{\"outlinewidth\":0,\"ticks\":\"\"},\"colorscale\":[[0.0,\"#0d0887\"],[0.1111111111111111,\"#46039f\"],[0.2222222222222222,\"#7201a8\"],[0.3333333333333333,\"#9c179e\"],[0.4444444444444444,\"#bd3786\"],[0.5555555555555556,\"#d8576b\"],[0.6666666666666666,\"#ed7953\"],[0.7777777777777778,\"#fb9f3a\"],[0.8888888888888888,\"#fdca26\"],[1.0,\"#f0f921\"]]}],\"heatmap\":[{\"type\":\"heatmap\",\"colorbar\":{\"outlinewidth\":0,\"ticks\":\"\"},\"colorscale\":[[0.0,\"#0d0887\"],[0.1111111111111111,\"#46039f\"],[0.2222222222222222,\"#7201a8\"],[0.3333333333333333,\"#9c179e\"],[0.4444444444444444,\"#bd3786\"],[0.5555555555555556,\"#d8576b\"],[0.6666666666666666,\"#ed7953\"],[0.7777777777777778,\"#fb9f3a\"],[0.8888888888888888,\"#fdca26\"],[1.0,\"#f0f921\"]]}],\"heatmapgl\":[{\"type\":\"heatmapgl\",\"colorbar\":{\"outlinewidth\":0,\"ticks\":\"\"},\"colorscale\":[[0.0,\"#0d0887\"],[0.1111111111111111,\"#46039f\"],[0.2222222222222222,\"#7201a8\"],[0.3333333333333333,\"#9c179e\"],[0.4444444444444444,\"#bd3786\"],[0.5555555555555556,\"#d8576b\"],[0.6666666666666666,\"#ed7953\"],[0.7777777777777778,\"#fb9f3a\"],[0.8888888888888888,\"#fdca26\"],[1.0,\"#f0f921\"]]}],\"contourcarpet\":[{\"type\":\"contourcarpet\",\"colorbar\":{\"outlinewidth\":0,\"ticks\":\"\"}}],\"contour\":[{\"type\":\"contour\",\"colorbar\":{\"outlinewidth\":0,\"ticks\":\"\"},\"colorscale\":[[0.0,\"#0d0887\"],[0.1111111111111111,\"#46039f\"],[0.2222222222222222,\"#7201a8\"],[0.3333333333333333,\"#9c179e\"],[0.4444444444444444,\"#bd3786\"],[0.5555555555555556,\"#d8576b\"],[0.6666666666666666,\"#ed7953\"],[0.7777777777777778,\"#fb9f3a\"],[0.8888888888888888,\"#fdca26\"],[1.0,\"#f0f921\"]]}],\"surface\":[{\"type\":\"surface\",\"colorbar\":{\"outlinewidth\":0,\"ticks\":\"\"},\"colorscale\":[[0.0,\"#0d0887\"],[0.1111111111111111,\"#46039f\"],[0.2222222222222222,\"#7201a8\"],[0.3333333333333333,\"#9c179e\"],[0.4444444444444444,\"#bd3786\"],[0.5555555555555556,\"#d8576b\"],[0.6666666666666666,\"#ed7953\"],[0.7777777777777778,\"#fb9f3a\"],[0.8888888888888888,\"#fdca26\"],[1.0,\"#f0f921\"]]}],\"mesh3d\":[{\"type\":\"mesh3d\",\"colorbar\":{\"outlinewidth\":0,\"ticks\":\"\"}}],\"scatter\":[{\"fillpattern\":{\"fillmode\":\"overlay\",\"size\":10,\"solidity\":0.2},\"type\":\"scatter\"}],\"parcoords\":[{\"type\":\"parcoords\",\"line\":{\"colorbar\":{\"outlinewidth\":0,\"ticks\":\"\"}}}],\"scatterpolargl\":[{\"type\":\"scatterpolargl\",\"marker\":{\"colorbar\":{\"outlinewidth\":0,\"ticks\":\"\"}}}],\"bar\":[{\"error_x\":{\"color\":\"#2a3f5f\"},\"error_y\":{\"color\":\"#2a3f5f\"},\"marker\":{\"line\":{\"color\":\"#E5ECF6\",\"width\":0.5},\"pattern\":{\"fillmode\":\"overlay\",\"size\":10,\"solidity\":0.2}},\"type\":\"bar\"}],\"scattergeo\":[{\"type\":\"scattergeo\",\"marker\":{\"colorbar\":{\"outlinewidth\":0,\"ticks\":\"\"}}}],\"scatterpolar\":[{\"type\":\"scatterpolar\",\"marker\":{\"colorbar\":{\"outlinewidth\":0,\"ticks\":\"\"}}}],\"histogram\":[{\"marker\":{\"pattern\":{\"fillmode\":\"overlay\",\"size\":10,\"solidity\":0.2}},\"type\":\"histogram\"}],\"scattergl\":[{\"type\":\"scattergl\",\"marker\":{\"colorbar\":{\"outlinewidth\":0,\"ticks\":\"\"}}}],\"scatter3d\":[{\"type\":\"scatter3d\",\"line\":{\"colorbar\":{\"outlinewidth\":0,\"ticks\":\"\"}},\"marker\":{\"colorbar\":{\"outlinewidth\":0,\"ticks\":\"\"}}}],\"scattermapbox\":[{\"type\":\"scattermapbox\",\"marker\":{\"colorbar\":{\"outlinewidth\":0,\"ticks\":\"\"}}}],\"scatterternary\":[{\"type\":\"scatterternary\",\"marker\":{\"colorbar\":{\"outlinewidth\":0,\"ticks\":\"\"}}}],\"scattercarpet\":[{\"type\":\"scattercarpet\",\"marker\":{\"colorbar\":{\"outlinewidth\":0,\"ticks\":\"\"}}}],\"carpet\":[{\"aaxis\":{\"endlinecolor\":\"#2a3f5f\",\"gridcolor\":\"white\",\"linecolor\":\"white\",\"minorgridcolor\":\"white\",\"startlinecolor\":\"#2a3f5f\"},\"baxis\":{\"endlinecolor\":\"#2a3f5f\",\"gridcolor\":\"white\",\"linecolor\":\"white\",\"minorgridcolor\":\"white\",\"startlinecolor\":\"#2a3f5f\"},\"type\":\"carpet\"}],\"table\":[{\"cells\":{\"fill\":{\"color\":\"#EBF0F8\"},\"line\":{\"color\":\"white\"}},\"header\":{\"fill\":{\"color\":\"#C8D4E3\"},\"line\":{\"color\":\"white\"}},\"type\":\"table\"}],\"barpolar\":[{\"marker\":{\"line\":{\"color\":\"#E5ECF6\",\"width\":0.5},\"pattern\":{\"fillmode\":\"overlay\",\"size\":10,\"solidity\":0.2}},\"type\":\"barpolar\"}],\"pie\":[{\"automargin\":true,\"type\":\"pie\"}]},\"layout\":{\"autotypenumbers\":\"strict\",\"colorway\":[\"#636efa\",\"#EF553B\",\"#00cc96\",\"#ab63fa\",\"#FFA15A\",\"#19d3f3\",\"#FF6692\",\"#B6E880\",\"#FF97FF\",\"#FECB52\"],\"font\":{\"color\":\"#2a3f5f\"},\"hovermode\":\"closest\",\"hoverlabel\":{\"align\":\"left\"},\"paper_bgcolor\":\"white\",\"plot_bgcolor\":\"#E5ECF6\",\"polar\":{\"bgcolor\":\"#E5ECF6\",\"angularaxis\":{\"gridcolor\":\"white\",\"linecolor\":\"white\",\"ticks\":\"\"},\"radialaxis\":{\"gridcolor\":\"white\",\"linecolor\":\"white\",\"ticks\":\"\"}},\"ternary\":{\"bgcolor\":\"#E5ECF6\",\"aaxis\":{\"gridcolor\":\"white\",\"linecolor\":\"white\",\"ticks\":\"\"},\"baxis\":{\"gridcolor\":\"white\",\"linecolor\":\"white\",\"ticks\":\"\"},\"caxis\":{\"gridcolor\":\"white\",\"linecolor\":\"white\",\"ticks\":\"\"}},\"coloraxis\":{\"colorbar\":{\"outlinewidth\":0,\"ticks\":\"\"}},\"colorscale\":{\"sequential\":[[0.0,\"#0d0887\"],[0.1111111111111111,\"#46039f\"],[0.2222222222222222,\"#7201a8\"],[0.3333333333333333,\"#9c179e\"],[0.4444444444444444,\"#bd3786\"],[0.5555555555555556,\"#d8576b\"],[0.6666666666666666,\"#ed7953\"],[0.7777777777777778,\"#fb9f3a\"],[0.8888888888888888,\"#fdca26\"],[1.0,\"#f0f921\"]],\"sequentialminus\":[[0.0,\"#0d0887\"],[0.1111111111111111,\"#46039f\"],[0.2222222222222222,\"#7201a8\"],[0.3333333333333333,\"#9c179e\"],[0.4444444444444444,\"#bd3786\"],[0.5555555555555556,\"#d8576b\"],[0.6666666666666666,\"#ed7953\"],[0.7777777777777778,\"#fb9f3a\"],[0.8888888888888888,\"#fdca26\"],[1.0,\"#f0f921\"]],\"diverging\":[[0,\"#8e0152\"],[0.1,\"#c51b7d\"],[0.2,\"#de77ae\"],[0.3,\"#f1b6da\"],[0.4,\"#fde0ef\"],[0.5,\"#f7f7f7\"],[0.6,\"#e6f5d0\"],[0.7,\"#b8e186\"],[0.8,\"#7fbc41\"],[0.9,\"#4d9221\"],[1,\"#276419\"]]},\"xaxis\":{\"gridcolor\":\"white\",\"linecolor\":\"white\",\"ticks\":\"\",\"title\":{\"standoff\":15},\"zerolinecolor\":\"white\",\"automargin\":true,\"zerolinewidth\":2},\"yaxis\":{\"gridcolor\":\"white\",\"linecolor\":\"white\",\"ticks\":\"\",\"title\":{\"standoff\":15},\"zerolinecolor\":\"white\",\"automargin\":true,\"zerolinewidth\":2},\"scene\":{\"xaxis\":{\"backgroundcolor\":\"#E5ECF6\",\"gridcolor\":\"white\",\"linecolor\":\"white\",\"showbackground\":true,\"ticks\":\"\",\"zerolinecolor\":\"white\",\"gridwidth\":2},\"yaxis\":{\"backgroundcolor\":\"#E5ECF6\",\"gridcolor\":\"white\",\"linecolor\":\"white\",\"showbackground\":true,\"ticks\":\"\",\"zerolinecolor\":\"white\",\"gridwidth\":2},\"zaxis\":{\"backgroundcolor\":\"#E5ECF6\",\"gridcolor\":\"white\",\"linecolor\":\"white\",\"showbackground\":true,\"ticks\":\"\",\"zerolinecolor\":\"white\",\"gridwidth\":2}},\"shapedefaults\":{\"line\":{\"color\":\"#2a3f5f\"}},\"annotationdefaults\":{\"arrowcolor\":\"#2a3f5f\",\"arrowhead\":0,\"arrowwidth\":1},\"geo\":{\"bgcolor\":\"white\",\"landcolor\":\"#E5ECF6\",\"subunitcolor\":\"white\",\"showland\":true,\"showlakes\":true,\"lakecolor\":\"white\"},\"title\":{\"x\":0.05},\"mapbox\":{\"style\":\"light\"}}},\"font\":{\"family\":\"Courier New, monospace\",\"size\":12},\"autosize\":false,\"width\":1200},                        {\"responsive\": true}                    ).then(function(){\n",
              "                            \n",
              "var gd = document.getElementById('ed146caa-9d29-4654-b3e2-2ed6be88bb4b');\n",
              "var x = new MutationObserver(function (mutations, observer) {{\n",
              "        var display = window.getComputedStyle(gd).display;\n",
              "        if (!display || display === 'none') {{\n",
              "            console.log([gd, 'removed!']);\n",
              "            Plotly.purge(gd);\n",
              "            observer.disconnect();\n",
              "        }}\n",
              "}});\n",
              "\n",
              "// Listen for the removal of the full notebook cells\n",
              "var notebookContainer = gd.closest('#notebook-container');\n",
              "if (notebookContainer) {{\n",
              "    x.observe(notebookContainer, {childList: true});\n",
              "}}\n",
              "\n",
              "// Listen for the clearing of the current output cell\n",
              "var outputEl = gd.closest('.output');\n",
              "if (outputEl) {{\n",
              "    x.observe(outputEl, {childList: true});\n",
              "}}\n",
              "\n",
              "                        })                };                            </script>        </div>\n",
              "</body>\n",
              "</html>"
            ]
          },
          "metadata": {}
        }
      ]
    },
    {
      "cell_type": "code",
      "source": [
        "df_meta_prec = df_meta_prec.astype({\"CodEstacao\": int}) # Transforma a coluna CodEstacao em int\n",
        "\n",
        "!mkdir -p \"/content/Separacao_flow/Estacoes_prec\"\n",
        "\n",
        "for j in range(len(stations_code_list)): #range coloca cada vez um codigo de estação na lista pro download\n",
        "  file_prec = download.ana_prec(code= stations_code_list[j],folder='/content/Separacao_flow/Estacoes_prec')\n",
        "  print('Arquivo salvo em: {}'.format(file_prec))"
      ],
      "metadata": {
        "colab": {
          "base_uri": "https://localhost:8080/"
        },
        "id": "pskzwpjO6GAr",
        "outputId": "63900605-ad60-4761-d45c-00bd2004a74a"
      },
      "execution_count": 38,
      "outputs": [
        {
          "output_type": "stream",
          "name": "stderr",
          "text": [
            "100%|██████████| 1/1 [00:02<00:00,  2.55s/it]\n"
          ]
        },
        {
          "output_type": "stream",
          "name": "stdout",
          "text": [
            "Arquivo salvo em: /content/Separacao_flow/Estacoes_prec/ANA-prec_02850019_2002-2023__by-2023-07-13.txt\n"
          ]
        },
        {
          "output_type": "stream",
          "name": "stderr",
          "text": [
            "100%|██████████| 1/1 [00:09<00:00,  9.46s/it]\n"
          ]
        },
        {
          "output_type": "stream",
          "name": "stdout",
          "text": [
            "Arquivo salvo em: /content/Separacao_flow/Estacoes_prec/ANA-prec_02854012_1976-2023__by-2023-07-13.txt\n"
          ]
        },
        {
          "output_type": "stream",
          "name": "stderr",
          "text": [
            "100%|██████████| 1/1 [00:07<00:00,  7.92s/it]\n"
          ]
        },
        {
          "output_type": "stream",
          "name": "stdout",
          "text": [
            "Arquivo salvo em: /content/Separacao_flow/Estacoes_prec/ANA-prec_02855004_1978-2022__by-2023-07-13.txt\n"
          ]
        },
        {
          "output_type": "stream",
          "name": "stderr",
          "text": [
            "100%|██████████| 1/1 [00:10<00:00, 10.81s/it]\n"
          ]
        },
        {
          "output_type": "stream",
          "name": "stdout",
          "text": [
            "Arquivo salvo em: /content/Separacao_flow/Estacoes_prec/ANA-prec_02953008_1943-2023__by-2023-07-13.txt\n"
          ]
        },
        {
          "output_type": "stream",
          "name": "stderr",
          "text": [
            "100%|██████████| 1/1 [00:07<00:00,  7.21s/it]\n"
          ]
        },
        {
          "output_type": "stream",
          "name": "stdout",
          "text": [
            "Arquivo salvo em: /content/Separacao_flow/Estacoes_prec/ANA-prec_02953030_1976-2023__by-2023-07-13.txt\n"
          ]
        },
        {
          "output_type": "stream",
          "name": "stderr",
          "text": [
            "100%|██████████| 1/1 [00:23<00:00, 23.90s/it]\n"
          ]
        },
        {
          "output_type": "stream",
          "name": "stdout",
          "text": [
            "Arquivo salvo em: /content/Separacao_flow/Estacoes_prec/ANA-prec_02954001_1943-2023__by-2023-07-13.txt\n"
          ]
        },
        {
          "output_type": "stream",
          "name": "stderr",
          "text": [
            "100%|██████████| 1/1 [00:09<00:00,  9.99s/it]\n"
          ]
        },
        {
          "output_type": "stream",
          "name": "stdout",
          "text": [
            "Arquivo salvo em: /content/Separacao_flow/Estacoes_prec/ANA-prec_02954004_1959-2023__by-2023-07-13.txt\n"
          ]
        },
        {
          "output_type": "stream",
          "name": "stderr",
          "text": [
            "100%|██████████| 1/1 [00:07<00:00,  7.02s/it]\n"
          ]
        },
        {
          "output_type": "stream",
          "name": "stdout",
          "text": [
            "Arquivo salvo em: /content/Separacao_flow/Estacoes_prec/ANA-prec_02954005_1966-2023__by-2023-07-13.txt\n"
          ]
        },
        {
          "output_type": "stream",
          "name": "stderr",
          "text": [
            "100%|██████████| 1/1 [00:16<00:00, 16.06s/it]\n"
          ]
        },
        {
          "output_type": "stream",
          "name": "stdout",
          "text": [
            "Arquivo salvo em: /content/Separacao_flow/Estacoes_prec/ANA-prec_02954031_1983-2023__by-2023-07-13.txt\n"
          ]
        },
        {
          "output_type": "stream",
          "name": "stderr",
          "text": [
            "100%|██████████| 1/1 [00:08<00:00,  8.14s/it]\n"
          ]
        },
        {
          "output_type": "stream",
          "name": "stdout",
          "text": [
            "Arquivo salvo em: /content/Separacao_flow/Estacoes_prec/ANA-prec_02955006_1969-2022__by-2023-07-13.txt\n"
          ]
        },
        {
          "output_type": "stream",
          "name": "stderr",
          "text": [
            "100%|██████████| 1/1 [00:06<00:00,  6.74s/it]\n"
          ]
        },
        {
          "output_type": "stream",
          "name": "stdout",
          "text": [
            "Arquivo salvo em: /content/Separacao_flow/Estacoes_prec/ANA-prec_02955007_1969-2023__by-2023-07-13.txt\n"
          ]
        },
        {
          "output_type": "stream",
          "name": "stderr",
          "text": [
            "100%|██████████| 1/1 [00:04<00:00,  4.67s/it]\n"
          ]
        },
        {
          "output_type": "stream",
          "name": "stdout",
          "text": [
            "Arquivo salvo em: /content/Separacao_flow/Estacoes_prec/ANA-prec_02955013_1986-2023__by-2023-07-13.txt\n"
          ]
        },
        {
          "output_type": "stream",
          "name": "stderr",
          "text": [
            "100%|██████████| 1/1 [00:03<00:00,  3.51s/it]\n"
          ]
        },
        {
          "output_type": "stream",
          "name": "stdout",
          "text": [
            "Arquivo salvo em: /content/Separacao_flow/Estacoes_prec/ANA-prec_02955017_2004-2023__by-2023-07-13.txt\n"
          ]
        },
        {
          "output_type": "stream",
          "name": "stderr",
          "text": [
            "100%|██████████| 1/1 [00:07<00:00,  7.01s/it]\n"
          ]
        },
        {
          "output_type": "stream",
          "name": "stdout",
          "text": [
            "Arquivo salvo em: /content/Separacao_flow/Estacoes_prec/ANA-prec_02956006_1969-2023__by-2023-07-13.txt\n"
          ]
        },
        {
          "output_type": "stream",
          "name": "stderr",
          "text": [
            "100%|██████████| 1/1 [00:04<00:00,  4.13s/it]\n"
          ]
        },
        {
          "output_type": "stream",
          "name": "stdout",
          "text": [
            "Arquivo salvo em: /content/Separacao_flow/Estacoes_prec/ANA-prec_03053004_1999-2023__by-2023-07-13.txt\n"
          ]
        },
        {
          "output_type": "stream",
          "name": "stderr",
          "text": [
            "100%|██████████| 1/1 [00:03<00:00,  3.58s/it]\n"
          ]
        },
        {
          "output_type": "stream",
          "name": "stdout",
          "text": [
            "Arquivo salvo em: /content/Separacao_flow/Estacoes_prec/ANA-prec_03053023_2000-2023__by-2023-07-13.txt\n"
          ]
        },
        {
          "output_type": "stream",
          "name": "stderr",
          "text": [
            "100%|██████████| 1/1 [00:03<00:00,  3.88s/it]\n"
          ]
        },
        {
          "output_type": "stream",
          "name": "stdout",
          "text": [
            "Arquivo salvo em: /content/Separacao_flow/Estacoes_prec/ANA-prec_03053024_2004-2022__by-2023-07-13.txt\n"
          ]
        },
        {
          "output_type": "stream",
          "name": "stderr",
          "text": [
            "100%|██████████| 1/1 [00:02<00:00,  2.12s/it]\n"
          ]
        },
        {
          "output_type": "stream",
          "name": "stdout",
          "text": [
            "Arquivo salvo em: /content/Separacao_flow/Estacoes_prec/ANA-prec_03053028_2009-2023__by-2023-07-13.txt\n"
          ]
        },
        {
          "output_type": "stream",
          "name": "stderr",
          "text": [
            "100%|██████████| 1/1 [00:13<00:00, 13.99s/it]\n"
          ]
        },
        {
          "output_type": "stream",
          "name": "stdout",
          "text": [
            "Arquivo salvo em: /content/Separacao_flow/Estacoes_prec/ANA-prec_03054002_1934-2023__by-2023-07-13.txt\n"
          ]
        },
        {
          "output_type": "stream",
          "name": "stderr",
          "text": [
            "100%|██████████| 1/1 [00:09<00:00,  9.16s/it]\n"
          ]
        },
        {
          "output_type": "stream",
          "name": "stdout",
          "text": [
            "Arquivo salvo em: /content/Separacao_flow/Estacoes_prec/ANA-prec_03054016_1976-2023__by-2023-07-13.txt\n"
          ]
        },
        {
          "output_type": "stream",
          "name": "stderr",
          "text": [
            "100%|██████████| 1/1 [00:04<00:00,  4.22s/it]\n"
          ]
        },
        {
          "output_type": "stream",
          "name": "stdout",
          "text": [
            "Arquivo salvo em: /content/Separacao_flow/Estacoes_prec/ANA-prec_03054019_1999-2023__by-2023-07-13.txt\n"
          ]
        },
        {
          "output_type": "stream",
          "name": "stderr",
          "text": [
            "100%|██████████| 1/1 [00:03<00:00,  3.39s/it]\n"
          ]
        },
        {
          "output_type": "stream",
          "name": "stdout",
          "text": [
            "Arquivo salvo em: /content/Separacao_flow/Estacoes_prec/ANA-prec_03054020_2004-2023__by-2023-07-13.txt\n"
          ]
        },
        {
          "output_type": "stream",
          "name": "stderr",
          "text": [
            "100%|██████████| 1/1 [00:03<00:00,  3.93s/it]\n"
          ]
        },
        {
          "output_type": "stream",
          "name": "stdout",
          "text": [
            "Arquivo salvo em: /content/Separacao_flow/Estacoes_prec/ANA-prec_03054021_2004-2023__by-2023-07-13.txt\n"
          ]
        },
        {
          "output_type": "stream",
          "name": "stderr",
          "text": [
            "100%|██████████| 1/1 [00:08<00:00,  8.44s/it]\n"
          ]
        },
        {
          "output_type": "stream",
          "name": "stdout",
          "text": [
            "Arquivo salvo em: /content/Separacao_flow/Estacoes_prec/ANA-prec_03055003_1976-2023__by-2023-07-13.txt\n"
          ]
        },
        {
          "output_type": "stream",
          "name": "stderr",
          "text": [
            "100%|██████████| 1/1 [00:08<00:00,  8.23s/it]\n"
          ]
        },
        {
          "output_type": "stream",
          "name": "stdout",
          "text": [
            "Arquivo salvo em: /content/Separacao_flow/Estacoes_prec/ANA-prec_03056007_1983-2023__by-2023-07-13.txt\n"
          ]
        },
        {
          "output_type": "stream",
          "name": "stderr",
          "text": [
            "100%|██████████| 1/1 [00:08<00:00,  8.02s/it]\n"
          ]
        },
        {
          "output_type": "stream",
          "name": "stdout",
          "text": [
            "Arquivo salvo em: /content/Separacao_flow/Estacoes_prec/ANA-prec_03154003_1976-2023__by-2023-07-13.txt\n"
          ]
        },
        {
          "output_type": "stream",
          "name": "stderr",
          "text": [
            "100%|██████████| 1/1 [00:03<00:00,  3.56s/it]\n"
          ]
        },
        {
          "output_type": "stream",
          "name": "stdout",
          "text": [
            "Arquivo salvo em: /content/Separacao_flow/Estacoes_prec/ANA-prec_03154008_2000-2023__by-2023-07-13.txt\n"
          ]
        },
        {
          "output_type": "stream",
          "name": "stderr",
          "text": [
            "100%|██████████| 1/1 [00:08<00:00,  8.15s/it]"
          ]
        },
        {
          "output_type": "stream",
          "name": "stdout",
          "text": [
            "Arquivo salvo em: /content/Separacao_flow/Estacoes_prec/ANA-prec_03155001_1976-2023__by-2023-07-13.txt\n"
          ]
        },
        {
          "output_type": "stream",
          "name": "stderr",
          "text": [
            "\n"
          ]
        }
      ]
    },
    {
      "cell_type": "markdown",
      "source": [
        "# VERIFICAR A PARTIR DAQUI, GERAÇÂO DO DATAFRAME NAO ESTA CORRETA"
      ],
      "metadata": {
        "id": "c4sXxcEDKHzE"
      }
    },
    {
      "cell_type": "code",
      "source": [
        "import os\n",
        "directory = \"/content/Separacao_flow/Estacoes_prec/\"\n",
        "\n",
        "# Criar um DataFrame vazio\n",
        "df = pd.DataFrame()\n",
        "\n",
        "# Listar todos os arquivos TXT no diretório\n",
        "txt_files = [file for file in os.listdir(directory) if file.endswith(\".txt\")]\n"
      ],
      "metadata": {
        "id": "mJotThIYCuyz"
      },
      "execution_count": 43,
      "outputs": []
    },
    {
      "cell_type": "code",
      "source": [
        "for file in txt_files:\n",
        "    # Construir o caminho completo para o arquivo TXT\n",
        "    file_path = os.path.join(directory, file)"
      ],
      "metadata": {
        "id": "r1UpaJsFDWE7"
      },
      "execution_count": 46,
      "outputs": []
    },
    {
      "cell_type": "code",
      "source": [
        "\n",
        "# Criar um DataFrame vazio com a coluna \"Data\"\n",
        "df = pd.DataFrame(columns=[\"Data\"])\n",
        "\n",
        "# Iterar sobre os arquivos TXT\n",
        "for file in txt_files:\n",
        "    # Construir o caminho completo para o arquivo TXT\n",
        "    file_path = os.path.join(directory, file)\n",
        "\n",
        "    # Ler o arquivo TXT e criar um DataFrame temporário\n",
        "    temp_df = pd.read_csv(file_path, sep=\"\\t\", names=[\"Data\", file[:-4]])\n",
        "\n",
        "    # Adicionar o DataFrame temporário ao DataFrame principal\n",
        "    df = pd.merge(df, temp_df, on=\"Data\", how=\"outer\")\n",
        "\n",
        "# Ordenar o DataFrame com base na coluna \"Data\"\n",
        "df.sort_values(\"Data\", inplace=True)\n",
        "\n",
        "# Definir a coluna \"Data\" como índice\n",
        "df.set_index(\"Data\", inplace=True)\n",
        "\n",
        "# Exibir o DataFrame resultante\n",
        "df"
      ],
      "metadata": {
        "colab": {
          "base_uri": "https://localhost:8080/",
          "height": 2356
        },
        "id": "8eBohwDsHIQ0",
        "outputId": "5e19f601-8f3a-44ee-f41b-f94a49d3dde5"
      },
      "execution_count": 58,
      "outputs": [
        {
          "output_type": "execute_result",
          "data": {
            "text/plain": [
              "                 ANA-prec_03053028_2009-2023__by-2023-07-13  \\\n",
              "Data                                                          \n",
              "1934-01-01;                                             NaN   \n",
              "1934-01-02;                                             NaN   \n",
              "1934-01-03;                                             NaN   \n",
              "1934-01-04;                                             NaN   \n",
              "1934-01-05;10.5                                         NaN   \n",
              "...                                                     ...   \n",
              "2023-02-27;1.7                                          NaN   \n",
              "2023-02-28;0.0                                          NaN   \n",
              "2023-02-28;0.7                                          NaN   \n",
              "2023-02-28;5.3                                          NaN   \n",
              "Date;Prec                                               NaN   \n",
              "\n",
              "                 ANA-prec_02955006_1969-2022__by-2023-07-13  \\\n",
              "Data                                                          \n",
              "1934-01-01;                                             NaN   \n",
              "1934-01-02;                                             NaN   \n",
              "1934-01-03;                                             NaN   \n",
              "1934-01-04;                                             NaN   \n",
              "1934-01-05;10.5                                         NaN   \n",
              "...                                                     ...   \n",
              "2023-02-27;1.7                                          NaN   \n",
              "2023-02-28;0.0                                          NaN   \n",
              "2023-02-28;0.7                                          NaN   \n",
              "2023-02-28;5.3                                          NaN   \n",
              "Date;Prec                                               NaN   \n",
              "\n",
              "                 ANA-prec_02954004_1959-2023__by-2023-07-13  \\\n",
              "Data                                                          \n",
              "1934-01-01;                                             NaN   \n",
              "1934-01-02;                                             NaN   \n",
              "1934-01-03;                                             NaN   \n",
              "1934-01-04;                                             NaN   \n",
              "1934-01-05;10.5                                         NaN   \n",
              "...                                                     ...   \n",
              "2023-02-27;1.7                                          NaN   \n",
              "2023-02-28;0.0                                          NaN   \n",
              "2023-02-28;0.7                                          NaN   \n",
              "2023-02-28;5.3                                          NaN   \n",
              "Date;Prec                                               NaN   \n",
              "\n",
              "                 ANA-prec_03054021_2004-2023__by-2023-07-13  \\\n",
              "Data                                                          \n",
              "1934-01-01;                                             NaN   \n",
              "1934-01-02;                                             NaN   \n",
              "1934-01-03;                                             NaN   \n",
              "1934-01-04;                                             NaN   \n",
              "1934-01-05;10.5                                         NaN   \n",
              "...                                                     ...   \n",
              "2023-02-27;1.7                                          NaN   \n",
              "2023-02-28;0.0                                          NaN   \n",
              "2023-02-28;0.7                                          NaN   \n",
              "2023-02-28;5.3                                          NaN   \n",
              "Date;Prec                                               NaN   \n",
              "\n",
              "                 ANA-prec_03054002_1934-2023__by-2023-07-13  \\\n",
              "Data                                                          \n",
              "1934-01-01;                                             NaN   \n",
              "1934-01-02;                                             NaN   \n",
              "1934-01-03;                                             NaN   \n",
              "1934-01-04;                                             NaN   \n",
              "1934-01-05;10.5                                         NaN   \n",
              "...                                                     ...   \n",
              "2023-02-27;1.7                                          NaN   \n",
              "2023-02-28;0.0                                          NaN   \n",
              "2023-02-28;0.7                                          NaN   \n",
              "2023-02-28;5.3                                          NaN   \n",
              "Date;Prec                                               NaN   \n",
              "\n",
              "                 ANA-prec_03056007_1983-2023__by-2023-07-13  \\\n",
              "Data                                                          \n",
              "1934-01-01;                                             NaN   \n",
              "1934-01-02;                                             NaN   \n",
              "1934-01-03;                                             NaN   \n",
              "1934-01-04;                                             NaN   \n",
              "1934-01-05;10.5                                         NaN   \n",
              "...                                                     ...   \n",
              "2023-02-27;1.7                                          NaN   \n",
              "2023-02-28;0.0                                          NaN   \n",
              "2023-02-28;0.7                                          NaN   \n",
              "2023-02-28;5.3                                          NaN   \n",
              "Date;Prec                                               NaN   \n",
              "\n",
              "                 ANA-prec_02953008_1943-2023__by-2023-07-13  \\\n",
              "Data                                                          \n",
              "1934-01-01;                                             NaN   \n",
              "1934-01-02;                                             NaN   \n",
              "1934-01-03;                                             NaN   \n",
              "1934-01-04;                                             NaN   \n",
              "1934-01-05;10.5                                         NaN   \n",
              "...                                                     ...   \n",
              "2023-02-27;1.7                                          NaN   \n",
              "2023-02-28;0.0                                          NaN   \n",
              "2023-02-28;0.7                                          NaN   \n",
              "2023-02-28;5.3                                          NaN   \n",
              "Date;Prec                                               NaN   \n",
              "\n",
              "                 ANA-prec_03154003_1976-2023__by-2023-07-13  \\\n",
              "Data                                                          \n",
              "1934-01-01;                                             NaN   \n",
              "1934-01-02;                                             NaN   \n",
              "1934-01-03;                                             NaN   \n",
              "1934-01-04;                                             NaN   \n",
              "1934-01-05;10.5                                         NaN   \n",
              "...                                                     ...   \n",
              "2023-02-27;1.7                                          NaN   \n",
              "2023-02-28;0.0                                          NaN   \n",
              "2023-02-28;0.7                                          NaN   \n",
              "2023-02-28;5.3                                          NaN   \n",
              "Date;Prec                                               NaN   \n",
              "\n",
              "                 ANA-prec_02954031_1983-2023__by-2023-07-13  \\\n",
              "Data                                                          \n",
              "1934-01-01;                                             NaN   \n",
              "1934-01-02;                                             NaN   \n",
              "1934-01-03;                                             NaN   \n",
              "1934-01-04;                                             NaN   \n",
              "1934-01-05;10.5                                         NaN   \n",
              "...                                                     ...   \n",
              "2023-02-27;1.7                                          NaN   \n",
              "2023-02-28;0.0                                          NaN   \n",
              "2023-02-28;0.7                                          NaN   \n",
              "2023-02-28;5.3                                          NaN   \n",
              "Date;Prec                                               NaN   \n",
              "\n",
              "                 ANA-prec_02955007_1969-2023__by-2023-07-13  ...  \\\n",
              "Data                                                         ...   \n",
              "1934-01-01;                                             NaN  ...   \n",
              "1934-01-02;                                             NaN  ...   \n",
              "1934-01-03;                                             NaN  ...   \n",
              "1934-01-04;                                             NaN  ...   \n",
              "1934-01-05;10.5                                         NaN  ...   \n",
              "...                                                     ...  ...   \n",
              "2023-02-27;1.7                                          NaN  ...   \n",
              "2023-02-28;0.0                                          NaN  ...   \n",
              "2023-02-28;0.7                                          NaN  ...   \n",
              "2023-02-28;5.3                                          NaN  ...   \n",
              "Date;Prec                                               NaN  ...   \n",
              "\n",
              "                 ANA-prec_03154008_2000-2023__by-2023-07-13  \\\n",
              "Data                                                          \n",
              "1934-01-01;                                             NaN   \n",
              "1934-01-02;                                             NaN   \n",
              "1934-01-03;                                             NaN   \n",
              "1934-01-04;                                             NaN   \n",
              "1934-01-05;10.5                                         NaN   \n",
              "...                                                     ...   \n",
              "2023-02-27;1.7                                          NaN   \n",
              "2023-02-28;0.0                                          NaN   \n",
              "2023-02-28;0.7                                          NaN   \n",
              "2023-02-28;5.3                                          NaN   \n",
              "Date;Prec                                               NaN   \n",
              "\n",
              "                 ANA-prec_03053023_2000-2023__by-2023-07-13  \\\n",
              "Data                                                          \n",
              "1934-01-01;                                             NaN   \n",
              "1934-01-02;                                             NaN   \n",
              "1934-01-03;                                             NaN   \n",
              "1934-01-04;                                             NaN   \n",
              "1934-01-05;10.5                                         NaN   \n",
              "...                                                     ...   \n",
              "2023-02-27;1.7                                          NaN   \n",
              "2023-02-28;0.0                                          NaN   \n",
              "2023-02-28;0.7                                          NaN   \n",
              "2023-02-28;5.3                                          NaN   \n",
              "Date;Prec                                               NaN   \n",
              "\n",
              "                 ANA-prec_02954001_1943-2023__by-2023-07-13  \\\n",
              "Data                                                          \n",
              "1934-01-01;                                             NaN   \n",
              "1934-01-02;                                             NaN   \n",
              "1934-01-03;                                             NaN   \n",
              "1934-01-04;                                             NaN   \n",
              "1934-01-05;10.5                                         NaN   \n",
              "...                                                     ...   \n",
              "2023-02-27;1.7                                          NaN   \n",
              "2023-02-28;0.0                                          NaN   \n",
              "2023-02-28;0.7                                          NaN   \n",
              "2023-02-28;5.3                                          NaN   \n",
              "Date;Prec                                               NaN   \n",
              "\n",
              "                 ANA-prec_03054019_1999-2023__by-2023-07-13  \\\n",
              "Data                                                          \n",
              "1934-01-01;                                             NaN   \n",
              "1934-01-02;                                             NaN   \n",
              "1934-01-03;                                             NaN   \n",
              "1934-01-04;                                             NaN   \n",
              "1934-01-05;10.5                                         NaN   \n",
              "...                                                     ...   \n",
              "2023-02-27;1.7                                          NaN   \n",
              "2023-02-28;0.0                                          NaN   \n",
              "2023-02-28;0.7                                          NaN   \n",
              "2023-02-28;5.3                                          NaN   \n",
              "Date;Prec                                               NaN   \n",
              "\n",
              "                 ANA-prec_02854012_1976-2023__by-2023-07-13  \\\n",
              "Data                                                          \n",
              "1934-01-01;                                             NaN   \n",
              "1934-01-02;                                             NaN   \n",
              "1934-01-03;                                             NaN   \n",
              "1934-01-04;                                             NaN   \n",
              "1934-01-05;10.5                                         NaN   \n",
              "...                                                     ...   \n",
              "2023-02-27;1.7                                          NaN   \n",
              "2023-02-28;0.0                                          NaN   \n",
              "2023-02-28;0.7                                          NaN   \n",
              "2023-02-28;5.3                                          NaN   \n",
              "Date;Prec                                               NaN   \n",
              "\n",
              "                 ANA-prec_02955013_1986-2023__by-2023-07-13  \\\n",
              "Data                                                          \n",
              "1934-01-01;                                             NaN   \n",
              "1934-01-02;                                             NaN   \n",
              "1934-01-03;                                             NaN   \n",
              "1934-01-04;                                             NaN   \n",
              "1934-01-05;10.5                                         NaN   \n",
              "...                                                     ...   \n",
              "2023-02-27;1.7                                          NaN   \n",
              "2023-02-28;0.0                                          NaN   \n",
              "2023-02-28;0.7                                          NaN   \n",
              "2023-02-28;5.3                                          NaN   \n",
              "Date;Prec                                               NaN   \n",
              "\n",
              "                 ANA-prec_03054016_1976-2023__by-2023-07-13  \\\n",
              "Data                                                          \n",
              "1934-01-01;                                             NaN   \n",
              "1934-01-02;                                             NaN   \n",
              "1934-01-03;                                             NaN   \n",
              "1934-01-04;                                             NaN   \n",
              "1934-01-05;10.5                                         NaN   \n",
              "...                                                     ...   \n",
              "2023-02-27;1.7                                          NaN   \n",
              "2023-02-28;0.0                                          NaN   \n",
              "2023-02-28;0.7                                          NaN   \n",
              "2023-02-28;5.3                                          NaN   \n",
              "Date;Prec                                               NaN   \n",
              "\n",
              "                 ANA-prec_02955017_2004-2023__by-2023-07-13  \\\n",
              "Data                                                          \n",
              "1934-01-01;                                             NaN   \n",
              "1934-01-02;                                             NaN   \n",
              "1934-01-03;                                             NaN   \n",
              "1934-01-04;                                             NaN   \n",
              "1934-01-05;10.5                                         NaN   \n",
              "...                                                     ...   \n",
              "2023-02-27;1.7                                          NaN   \n",
              "2023-02-28;0.0                                          NaN   \n",
              "2023-02-28;0.7                                          NaN   \n",
              "2023-02-28;5.3                                          NaN   \n",
              "Date;Prec                                               NaN   \n",
              "\n",
              "                 ANA-prec_03053024_2004-2022__by-2023-07-13  \\\n",
              "Data                                                          \n",
              "1934-01-01;                                             NaN   \n",
              "1934-01-02;                                             NaN   \n",
              "1934-01-03;                                             NaN   \n",
              "1934-01-04;                                             NaN   \n",
              "1934-01-05;10.5                                         NaN   \n",
              "...                                                     ...   \n",
              "2023-02-27;1.7                                          NaN   \n",
              "2023-02-28;0.0                                          NaN   \n",
              "2023-02-28;0.7                                          NaN   \n",
              "2023-02-28;5.3                                          NaN   \n",
              "Date;Prec                                               NaN   \n",
              "\n",
              "                 ANA-prec_02953030_1976-2023__by-2023-07-13  \n",
              "Data                                                         \n",
              "1934-01-01;                                             NaN  \n",
              "1934-01-02;                                             NaN  \n",
              "1934-01-03;                                             NaN  \n",
              "1934-01-04;                                             NaN  \n",
              "1934-01-05;10.5                                         NaN  \n",
              "...                                                     ...  \n",
              "2023-02-27;1.7                                          NaN  \n",
              "2023-02-28;0.0                                          NaN  \n",
              "2023-02-28;0.7                                          NaN  \n",
              "2023-02-28;5.3                                          NaN  \n",
              "Date;Prec                                               NaN  \n",
              "\n",
              "[120703 rows x 27 columns]"
            ],
            "text/html": [
              "\n",
              "\n",
              "  <div id=\"df-4f609ae2-a50d-4579-8b73-9d0af9b2cc3a\">\n",
              "    <div class=\"colab-df-container\">\n",
              "      <div>\n",
              "<style scoped>\n",
              "    .dataframe tbody tr th:only-of-type {\n",
              "        vertical-align: middle;\n",
              "    }\n",
              "\n",
              "    .dataframe tbody tr th {\n",
              "        vertical-align: top;\n",
              "    }\n",
              "\n",
              "    .dataframe thead th {\n",
              "        text-align: right;\n",
              "    }\n",
              "</style>\n",
              "<table border=\"1\" class=\"dataframe\">\n",
              "  <thead>\n",
              "    <tr style=\"text-align: right;\">\n",
              "      <th></th>\n",
              "      <th>ANA-prec_03053028_2009-2023__by-2023-07-13</th>\n",
              "      <th>ANA-prec_02955006_1969-2022__by-2023-07-13</th>\n",
              "      <th>ANA-prec_02954004_1959-2023__by-2023-07-13</th>\n",
              "      <th>ANA-prec_03054021_2004-2023__by-2023-07-13</th>\n",
              "      <th>ANA-prec_03054002_1934-2023__by-2023-07-13</th>\n",
              "      <th>ANA-prec_03056007_1983-2023__by-2023-07-13</th>\n",
              "      <th>ANA-prec_02953008_1943-2023__by-2023-07-13</th>\n",
              "      <th>ANA-prec_03154003_1976-2023__by-2023-07-13</th>\n",
              "      <th>ANA-prec_02954031_1983-2023__by-2023-07-13</th>\n",
              "      <th>ANA-prec_02955007_1969-2023__by-2023-07-13</th>\n",
              "      <th>...</th>\n",
              "      <th>ANA-prec_03154008_2000-2023__by-2023-07-13</th>\n",
              "      <th>ANA-prec_03053023_2000-2023__by-2023-07-13</th>\n",
              "      <th>ANA-prec_02954001_1943-2023__by-2023-07-13</th>\n",
              "      <th>ANA-prec_03054019_1999-2023__by-2023-07-13</th>\n",
              "      <th>ANA-prec_02854012_1976-2023__by-2023-07-13</th>\n",
              "      <th>ANA-prec_02955013_1986-2023__by-2023-07-13</th>\n",
              "      <th>ANA-prec_03054016_1976-2023__by-2023-07-13</th>\n",
              "      <th>ANA-prec_02955017_2004-2023__by-2023-07-13</th>\n",
              "      <th>ANA-prec_03053024_2004-2022__by-2023-07-13</th>\n",
              "      <th>ANA-prec_02953030_1976-2023__by-2023-07-13</th>\n",
              "    </tr>\n",
              "    <tr>\n",
              "      <th>Data</th>\n",
              "      <th></th>\n",
              "      <th></th>\n",
              "      <th></th>\n",
              "      <th></th>\n",
              "      <th></th>\n",
              "      <th></th>\n",
              "      <th></th>\n",
              "      <th></th>\n",
              "      <th></th>\n",
              "      <th></th>\n",
              "      <th></th>\n",
              "      <th></th>\n",
              "      <th></th>\n",
              "      <th></th>\n",
              "      <th></th>\n",
              "      <th></th>\n",
              "      <th></th>\n",
              "      <th></th>\n",
              "      <th></th>\n",
              "      <th></th>\n",
              "      <th></th>\n",
              "    </tr>\n",
              "  </thead>\n",
              "  <tbody>\n",
              "    <tr>\n",
              "      <th>1934-01-01;</th>\n",
              "      <td>NaN</td>\n",
              "      <td>NaN</td>\n",
              "      <td>NaN</td>\n",
              "      <td>NaN</td>\n",
              "      <td>NaN</td>\n",
              "      <td>NaN</td>\n",
              "      <td>NaN</td>\n",
              "      <td>NaN</td>\n",
              "      <td>NaN</td>\n",
              "      <td>NaN</td>\n",
              "      <td>...</td>\n",
              "      <td>NaN</td>\n",
              "      <td>NaN</td>\n",
              "      <td>NaN</td>\n",
              "      <td>NaN</td>\n",
              "      <td>NaN</td>\n",
              "      <td>NaN</td>\n",
              "      <td>NaN</td>\n",
              "      <td>NaN</td>\n",
              "      <td>NaN</td>\n",
              "      <td>NaN</td>\n",
              "    </tr>\n",
              "    <tr>\n",
              "      <th>1934-01-02;</th>\n",
              "      <td>NaN</td>\n",
              "      <td>NaN</td>\n",
              "      <td>NaN</td>\n",
              "      <td>NaN</td>\n",
              "      <td>NaN</td>\n",
              "      <td>NaN</td>\n",
              "      <td>NaN</td>\n",
              "      <td>NaN</td>\n",
              "      <td>NaN</td>\n",
              "      <td>NaN</td>\n",
              "      <td>...</td>\n",
              "      <td>NaN</td>\n",
              "      <td>NaN</td>\n",
              "      <td>NaN</td>\n",
              "      <td>NaN</td>\n",
              "      <td>NaN</td>\n",
              "      <td>NaN</td>\n",
              "      <td>NaN</td>\n",
              "      <td>NaN</td>\n",
              "      <td>NaN</td>\n",
              "      <td>NaN</td>\n",
              "    </tr>\n",
              "    <tr>\n",
              "      <th>1934-01-03;</th>\n",
              "      <td>NaN</td>\n",
              "      <td>NaN</td>\n",
              "      <td>NaN</td>\n",
              "      <td>NaN</td>\n",
              "      <td>NaN</td>\n",
              "      <td>NaN</td>\n",
              "      <td>NaN</td>\n",
              "      <td>NaN</td>\n",
              "      <td>NaN</td>\n",
              "      <td>NaN</td>\n",
              "      <td>...</td>\n",
              "      <td>NaN</td>\n",
              "      <td>NaN</td>\n",
              "      <td>NaN</td>\n",
              "      <td>NaN</td>\n",
              "      <td>NaN</td>\n",
              "      <td>NaN</td>\n",
              "      <td>NaN</td>\n",
              "      <td>NaN</td>\n",
              "      <td>NaN</td>\n",
              "      <td>NaN</td>\n",
              "    </tr>\n",
              "    <tr>\n",
              "      <th>1934-01-04;</th>\n",
              "      <td>NaN</td>\n",
              "      <td>NaN</td>\n",
              "      <td>NaN</td>\n",
              "      <td>NaN</td>\n",
              "      <td>NaN</td>\n",
              "      <td>NaN</td>\n",
              "      <td>NaN</td>\n",
              "      <td>NaN</td>\n",
              "      <td>NaN</td>\n",
              "      <td>NaN</td>\n",
              "      <td>...</td>\n",
              "      <td>NaN</td>\n",
              "      <td>NaN</td>\n",
              "      <td>NaN</td>\n",
              "      <td>NaN</td>\n",
              "      <td>NaN</td>\n",
              "      <td>NaN</td>\n",
              "      <td>NaN</td>\n",
              "      <td>NaN</td>\n",
              "      <td>NaN</td>\n",
              "      <td>NaN</td>\n",
              "    </tr>\n",
              "    <tr>\n",
              "      <th>1934-01-05;10.5</th>\n",
              "      <td>NaN</td>\n",
              "      <td>NaN</td>\n",
              "      <td>NaN</td>\n",
              "      <td>NaN</td>\n",
              "      <td>NaN</td>\n",
              "      <td>NaN</td>\n",
              "      <td>NaN</td>\n",
              "      <td>NaN</td>\n",
              "      <td>NaN</td>\n",
              "      <td>NaN</td>\n",
              "      <td>...</td>\n",
              "      <td>NaN</td>\n",
              "      <td>NaN</td>\n",
              "      <td>NaN</td>\n",
              "      <td>NaN</td>\n",
              "      <td>NaN</td>\n",
              "      <td>NaN</td>\n",
              "      <td>NaN</td>\n",
              "      <td>NaN</td>\n",
              "      <td>NaN</td>\n",
              "      <td>NaN</td>\n",
              "    </tr>\n",
              "    <tr>\n",
              "      <th>...</th>\n",
              "      <td>...</td>\n",
              "      <td>...</td>\n",
              "      <td>...</td>\n",
              "      <td>...</td>\n",
              "      <td>...</td>\n",
              "      <td>...</td>\n",
              "      <td>...</td>\n",
              "      <td>...</td>\n",
              "      <td>...</td>\n",
              "      <td>...</td>\n",
              "      <td>...</td>\n",
              "      <td>...</td>\n",
              "      <td>...</td>\n",
              "      <td>...</td>\n",
              "      <td>...</td>\n",
              "      <td>...</td>\n",
              "      <td>...</td>\n",
              "      <td>...</td>\n",
              "      <td>...</td>\n",
              "      <td>...</td>\n",
              "      <td>...</td>\n",
              "    </tr>\n",
              "    <tr>\n",
              "      <th>2023-02-27;1.7</th>\n",
              "      <td>NaN</td>\n",
              "      <td>NaN</td>\n",
              "      <td>NaN</td>\n",
              "      <td>NaN</td>\n",
              "      <td>NaN</td>\n",
              "      <td>NaN</td>\n",
              "      <td>NaN</td>\n",
              "      <td>NaN</td>\n",
              "      <td>NaN</td>\n",
              "      <td>NaN</td>\n",
              "      <td>...</td>\n",
              "      <td>NaN</td>\n",
              "      <td>NaN</td>\n",
              "      <td>NaN</td>\n",
              "      <td>NaN</td>\n",
              "      <td>NaN</td>\n",
              "      <td>NaN</td>\n",
              "      <td>NaN</td>\n",
              "      <td>NaN</td>\n",
              "      <td>NaN</td>\n",
              "      <td>NaN</td>\n",
              "    </tr>\n",
              "    <tr>\n",
              "      <th>2023-02-28;0.0</th>\n",
              "      <td>NaN</td>\n",
              "      <td>NaN</td>\n",
              "      <td>NaN</td>\n",
              "      <td>NaN</td>\n",
              "      <td>NaN</td>\n",
              "      <td>NaN</td>\n",
              "      <td>NaN</td>\n",
              "      <td>NaN</td>\n",
              "      <td>NaN</td>\n",
              "      <td>NaN</td>\n",
              "      <td>...</td>\n",
              "      <td>NaN</td>\n",
              "      <td>NaN</td>\n",
              "      <td>NaN</td>\n",
              "      <td>NaN</td>\n",
              "      <td>NaN</td>\n",
              "      <td>NaN</td>\n",
              "      <td>NaN</td>\n",
              "      <td>NaN</td>\n",
              "      <td>NaN</td>\n",
              "      <td>NaN</td>\n",
              "    </tr>\n",
              "    <tr>\n",
              "      <th>2023-02-28;0.7</th>\n",
              "      <td>NaN</td>\n",
              "      <td>NaN</td>\n",
              "      <td>NaN</td>\n",
              "      <td>NaN</td>\n",
              "      <td>NaN</td>\n",
              "      <td>NaN</td>\n",
              "      <td>NaN</td>\n",
              "      <td>NaN</td>\n",
              "      <td>NaN</td>\n",
              "      <td>NaN</td>\n",
              "      <td>...</td>\n",
              "      <td>NaN</td>\n",
              "      <td>NaN</td>\n",
              "      <td>NaN</td>\n",
              "      <td>NaN</td>\n",
              "      <td>NaN</td>\n",
              "      <td>NaN</td>\n",
              "      <td>NaN</td>\n",
              "      <td>NaN</td>\n",
              "      <td>NaN</td>\n",
              "      <td>NaN</td>\n",
              "    </tr>\n",
              "    <tr>\n",
              "      <th>2023-02-28;5.3</th>\n",
              "      <td>NaN</td>\n",
              "      <td>NaN</td>\n",
              "      <td>NaN</td>\n",
              "      <td>NaN</td>\n",
              "      <td>NaN</td>\n",
              "      <td>NaN</td>\n",
              "      <td>NaN</td>\n",
              "      <td>NaN</td>\n",
              "      <td>NaN</td>\n",
              "      <td>NaN</td>\n",
              "      <td>...</td>\n",
              "      <td>NaN</td>\n",
              "      <td>NaN</td>\n",
              "      <td>NaN</td>\n",
              "      <td>NaN</td>\n",
              "      <td>NaN</td>\n",
              "      <td>NaN</td>\n",
              "      <td>NaN</td>\n",
              "      <td>NaN</td>\n",
              "      <td>NaN</td>\n",
              "      <td>NaN</td>\n",
              "    </tr>\n",
              "    <tr>\n",
              "      <th>Date;Prec</th>\n",
              "      <td>NaN</td>\n",
              "      <td>NaN</td>\n",
              "      <td>NaN</td>\n",
              "      <td>NaN</td>\n",
              "      <td>NaN</td>\n",
              "      <td>NaN</td>\n",
              "      <td>NaN</td>\n",
              "      <td>NaN</td>\n",
              "      <td>NaN</td>\n",
              "      <td>NaN</td>\n",
              "      <td>...</td>\n",
              "      <td>NaN</td>\n",
              "      <td>NaN</td>\n",
              "      <td>NaN</td>\n",
              "      <td>NaN</td>\n",
              "      <td>NaN</td>\n",
              "      <td>NaN</td>\n",
              "      <td>NaN</td>\n",
              "      <td>NaN</td>\n",
              "      <td>NaN</td>\n",
              "      <td>NaN</td>\n",
              "    </tr>\n",
              "  </tbody>\n",
              "</table>\n",
              "<p>120703 rows × 27 columns</p>\n",
              "</div>\n",
              "      <button class=\"colab-df-convert\" onclick=\"convertToInteractive('df-4f609ae2-a50d-4579-8b73-9d0af9b2cc3a')\"\n",
              "              title=\"Convert this dataframe to an interactive table.\"\n",
              "              style=\"display:none;\">\n",
              "\n",
              "  <svg xmlns=\"http://www.w3.org/2000/svg\" height=\"24px\"viewBox=\"0 0 24 24\"\n",
              "       width=\"24px\">\n",
              "    <path d=\"M0 0h24v24H0V0z\" fill=\"none\"/>\n",
              "    <path d=\"M18.56 5.44l.94 2.06.94-2.06 2.06-.94-2.06-.94-.94-2.06-.94 2.06-2.06.94zm-11 1L8.5 8.5l.94-2.06 2.06-.94-2.06-.94L8.5 2.5l-.94 2.06-2.06.94zm10 10l.94 2.06.94-2.06 2.06-.94-2.06-.94-.94-2.06-.94 2.06-2.06.94z\"/><path d=\"M17.41 7.96l-1.37-1.37c-.4-.4-.92-.59-1.43-.59-.52 0-1.04.2-1.43.59L10.3 9.45l-7.72 7.72c-.78.78-.78 2.05 0 2.83L4 21.41c.39.39.9.59 1.41.59.51 0 1.02-.2 1.41-.59l7.78-7.78 2.81-2.81c.8-.78.8-2.07 0-2.86zM5.41 20L4 18.59l7.72-7.72 1.47 1.35L5.41 20z\"/>\n",
              "  </svg>\n",
              "      </button>\n",
              "\n",
              "\n",
              "\n",
              "    <div id=\"df-ba5ec0b7-ba5d-4cde-984a-6c3dae0543dc\">\n",
              "      <button class=\"colab-df-quickchart\" onclick=\"quickchart('df-ba5ec0b7-ba5d-4cde-984a-6c3dae0543dc')\"\n",
              "              title=\"Suggest charts.\"\n",
              "              style=\"display:none;\">\n",
              "\n",
              "<svg xmlns=\"http://www.w3.org/2000/svg\" height=\"24px\"viewBox=\"0 0 24 24\"\n",
              "     width=\"24px\">\n",
              "    <g>\n",
              "        <path d=\"M19 3H5c-1.1 0-2 .9-2 2v14c0 1.1.9 2 2 2h14c1.1 0 2-.9 2-2V5c0-1.1-.9-2-2-2zM9 17H7v-7h2v7zm4 0h-2V7h2v10zm4 0h-2v-4h2v4z\"/>\n",
              "    </g>\n",
              "</svg>\n",
              "      </button>\n",
              "    </div>\n",
              "\n",
              "<style>\n",
              "  .colab-df-quickchart {\n",
              "    background-color: #E8F0FE;\n",
              "    border: none;\n",
              "    border-radius: 50%;\n",
              "    cursor: pointer;\n",
              "    display: none;\n",
              "    fill: #1967D2;\n",
              "    height: 32px;\n",
              "    padding: 0 0 0 0;\n",
              "    width: 32px;\n",
              "  }\n",
              "\n",
              "  .colab-df-quickchart:hover {\n",
              "    background-color: #E2EBFA;\n",
              "    box-shadow: 0px 1px 2px rgba(60, 64, 67, 0.3), 0px 1px 3px 1px rgba(60, 64, 67, 0.15);\n",
              "    fill: #174EA6;\n",
              "  }\n",
              "\n",
              "  [theme=dark] .colab-df-quickchart {\n",
              "    background-color: #3B4455;\n",
              "    fill: #D2E3FC;\n",
              "  }\n",
              "\n",
              "  [theme=dark] .colab-df-quickchart:hover {\n",
              "    background-color: #434B5C;\n",
              "    box-shadow: 0px 1px 3px 1px rgba(0, 0, 0, 0.15);\n",
              "    filter: drop-shadow(0px 1px 2px rgba(0, 0, 0, 0.3));\n",
              "    fill: #FFFFFF;\n",
              "  }\n",
              "</style>\n",
              "\n",
              "    <script>\n",
              "      async function quickchart(key) {\n",
              "        const containerElement = document.querySelector('#' + key);\n",
              "        const charts = await google.colab.kernel.invokeFunction(\n",
              "            'suggestCharts', [key], {});\n",
              "      }\n",
              "    </script>\n",
              "\n",
              "      <script>\n",
              "\n",
              "function displayQuickchartButton(domScope) {\n",
              "  let quickchartButtonEl =\n",
              "    domScope.querySelector('#df-ba5ec0b7-ba5d-4cde-984a-6c3dae0543dc button.colab-df-quickchart');\n",
              "  quickchartButtonEl.style.display =\n",
              "    google.colab.kernel.accessAllowed ? 'block' : 'none';\n",
              "}\n",
              "\n",
              "        displayQuickchartButton(document);\n",
              "      </script>\n",
              "      <style>\n",
              "    .colab-df-container {\n",
              "      display:flex;\n",
              "      flex-wrap:wrap;\n",
              "      gap: 12px;\n",
              "    }\n",
              "\n",
              "    .colab-df-convert {\n",
              "      background-color: #E8F0FE;\n",
              "      border: none;\n",
              "      border-radius: 50%;\n",
              "      cursor: pointer;\n",
              "      display: none;\n",
              "      fill: #1967D2;\n",
              "      height: 32px;\n",
              "      padding: 0 0 0 0;\n",
              "      width: 32px;\n",
              "    }\n",
              "\n",
              "    .colab-df-convert:hover {\n",
              "      background-color: #E2EBFA;\n",
              "      box-shadow: 0px 1px 2px rgba(60, 64, 67, 0.3), 0px 1px 3px 1px rgba(60, 64, 67, 0.15);\n",
              "      fill: #174EA6;\n",
              "    }\n",
              "\n",
              "    [theme=dark] .colab-df-convert {\n",
              "      background-color: #3B4455;\n",
              "      fill: #D2E3FC;\n",
              "    }\n",
              "\n",
              "    [theme=dark] .colab-df-convert:hover {\n",
              "      background-color: #434B5C;\n",
              "      box-shadow: 0px 1px 3px 1px rgba(0, 0, 0, 0.15);\n",
              "      filter: drop-shadow(0px 1px 2px rgba(0, 0, 0, 0.3));\n",
              "      fill: #FFFFFF;\n",
              "    }\n",
              "  </style>\n",
              "\n",
              "      <script>\n",
              "        const buttonEl =\n",
              "          document.querySelector('#df-4f609ae2-a50d-4579-8b73-9d0af9b2cc3a button.colab-df-convert');\n",
              "        buttonEl.style.display =\n",
              "          google.colab.kernel.accessAllowed ? 'block' : 'none';\n",
              "\n",
              "        async function convertToInteractive(key) {\n",
              "          const element = document.querySelector('#df-4f609ae2-a50d-4579-8b73-9d0af9b2cc3a');\n",
              "          const dataTable =\n",
              "            await google.colab.kernel.invokeFunction('convertToInteractive',\n",
              "                                                     [key], {});\n",
              "          if (!dataTable) return;\n",
              "\n",
              "          const docLinkHtml = 'Like what you see? Visit the ' +\n",
              "            '<a target=\"_blank\" href=https://colab.research.google.com/notebooks/data_table.ipynb>data table notebook</a>'\n",
              "            + ' to learn more about interactive tables.';\n",
              "          element.innerHTML = '';\n",
              "          dataTable['output_type'] = 'display_data';\n",
              "          await google.colab.output.renderOutput(dataTable, element);\n",
              "          const docLink = document.createElement('div');\n",
              "          docLink.innerHTML = docLinkHtml;\n",
              "          element.appendChild(docLink);\n",
              "        }\n",
              "      </script>\n",
              "    </div>\n",
              "  </div>\n"
            ]
          },
          "metadata": {},
          "execution_count": 58
        },
        {
          "output_type": "stream",
          "name": "stdout",
          "text": [
            "Warning: Total number of columns (27) exceeds max_columns (20) limiting to first (20) columns.\n",
            "Warning: total number of rows (120703) exceeds max_rows (20000). Limiting to first (20000) rows.\n"
          ]
        }
      ]
    }
  ]
}